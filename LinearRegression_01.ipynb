{
  "nbformat": 4,
  "nbformat_minor": 0,
  "metadata": {
    "colab": {
      "provenance": [],
      "authorship_tag": "ABX9TyMfAm1TjqLHql/Agh9nKtJN",
      "include_colab_link": true
    },
    "kernelspec": {
      "name": "python3",
      "display_name": "Python 3"
    },
    "language_info": {
      "name": "python"
    }
  },
  "cells": [
    {
      "cell_type": "markdown",
      "metadata": {
        "id": "view-in-github",
        "colab_type": "text"
      },
      "source": [
        "<a href=\"https://colab.research.google.com/github/sandeeep-prajapati/pytorch_Practice_Repo/blob/main/LinearRegression_01.ipynb\" target=\"_parent\"><img src=\"https://colab.research.google.com/assets/colab-badge.svg\" alt=\"Open In Colab\"/></a>"
      ]
    },
    {
      "cell_type": "code",
      "execution_count": 7,
      "metadata": {
        "id": "gwnpoIFLocaO"
      },
      "outputs": [],
      "source": [
        "import torch\n",
        "import torch.nn as nn\n",
        "import numpy as np\n",
        "import matplotlib.pyplot as plt\n",
        "input_size =1\n",
        "output_size = 1\n",
        "num_epochs = 120\n",
        "learning_rate = 0.001\n"
      ]
    },
    {
      "cell_type": "code",
      "source": [
        "x_train = np.array([[3.3], [4.4], [5.5], [6.71], [6.93], [4.168],\n",
        "                    [9.779], [6.182], [7.59], [2.167], [7.042],\n",
        "                    [10.791], [5.313], [7.997], [3.1]], dtype=np.float32)\n",
        "\n",
        "y_train = np.array([[1.7], [2.76], [2.09], [3.19], [1.694], [1.573],\n",
        "                    [3.366], [2.596], [2.53], [1.221], [2.827],\n",
        "                    [3.465], [1.65], [2.904], [1.3]], dtype=np.float32)\n",
        "\n",
        "print(x_train.shape, y_train.shape)"
      ],
      "metadata": {
        "colab": {
          "base_uri": "https://localhost:8080/"
        },
        "id": "bYls-__go7Xp",
        "outputId": "dc12b415-940f-4c8a-f393-468bdbb1e04f"
      },
      "execution_count": 2,
      "outputs": [
        {
          "output_type": "stream",
          "name": "stdout",
          "text": [
            "(15, 1) (15, 1)\n"
          ]
        }
      ]
    },
    {
      "cell_type": "code",
      "source": [
        "model = nn.Linear(input_size,output_size)\n",
        "criterion = nn.MSELoss()\n",
        "optimizer = torch.optim.SGD(model.parameters(),lr = learning_rate)\n",
        "model"
      ],
      "metadata": {
        "colab": {
          "base_uri": "https://localhost:8080/"
        },
        "id": "ZTMDDsZ2o79Q",
        "outputId": "d1995f81-1912-409d-8576-885bdbf996a8"
      },
      "execution_count": 3,
      "outputs": [
        {
          "output_type": "execute_result",
          "data": {
            "text/plain": [
              "Linear(in_features=1, out_features=1, bias=True)"
            ]
          },
          "metadata": {},
          "execution_count": 3
        }
      ]
    },
    {
      "cell_type": "code",
      "source": [
        "for epoch in range(num_epochs):\n",
        "  inputs = torch.from_numpy(x_train)\n",
        "  target = torch.from_numpy(y_train)\n",
        "  outputs = model(inputs)\n",
        "  loss = criterion(outputs,target)\n",
        "  optimizer.zero_grad()\n",
        "  loss.backward()\n",
        "  optimizer.step()\n",
        "  if (epoch+1) % 5 == 0:\n",
        "        #torch.Tensor.item() : number\n",
        "        print ('Epoch [{}/{}], Loss: {:.4f}'.format(epoch+1, num_epochs, loss.item()))"
      ],
      "metadata": {
        "colab": {
          "base_uri": "https://localhost:8080/"
        },
        "id": "nCP6nZqSptPd",
        "outputId": "99e6b97d-6e69-41c7-f9f4-32791906f65f"
      },
      "execution_count": 8,
      "outputs": [
        {
          "output_type": "stream",
          "name": "stdout",
          "text": [
            "Epoch [5/120], Loss: 0.2463\n",
            "Epoch [10/120], Loss: 0.2461\n",
            "Epoch [15/120], Loss: 0.2459\n",
            "Epoch [20/120], Loss: 0.2457\n",
            "Epoch [25/120], Loss: 0.2455\n",
            "Epoch [30/120], Loss: 0.2453\n",
            "Epoch [35/120], Loss: 0.2451\n",
            "Epoch [40/120], Loss: 0.2449\n",
            "Epoch [45/120], Loss: 0.2447\n",
            "Epoch [50/120], Loss: 0.2445\n",
            "Epoch [55/120], Loss: 0.2443\n",
            "Epoch [60/120], Loss: 0.2442\n",
            "Epoch [65/120], Loss: 0.2440\n",
            "Epoch [70/120], Loss: 0.2438\n",
            "Epoch [75/120], Loss: 0.2436\n",
            "Epoch [80/120], Loss: 0.2434\n",
            "Epoch [85/120], Loss: 0.2432\n",
            "Epoch [90/120], Loss: 0.2430\n",
            "Epoch [95/120], Loss: 0.2428\n",
            "Epoch [100/120], Loss: 0.2426\n",
            "Epoch [105/120], Loss: 0.2424\n",
            "Epoch [110/120], Loss: 0.2422\n",
            "Epoch [115/120], Loss: 0.2421\n",
            "Epoch [120/120], Loss: 0.2419\n"
          ]
        }
      ]
    },
    {
      "cell_type": "code",
      "source": [
        "predict = model(torch.from_numpy(x_train)).detach().numpy()"
      ],
      "metadata": {
        "id": "p_mi_6ftqWe6"
      },
      "execution_count": 9,
      "outputs": []
    },
    {
      "cell_type": "code",
      "source": [
        "plt.plot(x_train, y_train, 'ro', label='Original data')\n",
        "plt.plot(x_train, predict, label='Fitted line')\n",
        "plt.legend()\n",
        "plt.show()\n",
        "torch.save(model.state_dict(), 'model.ckpt')"
      ],
      "metadata": {
        "colab": {
          "base_uri": "https://localhost:8080/",
          "height": 430
        },
        "id": "wr5Hu6OUrNoo",
        "outputId": "04027c9d-f5f9-47fb-abb5-163d95ff7712"
      },
      "execution_count": 12,
      "outputs": [
        {
          "output_type": "display_data",
          "data": {
            "text/plain": [
              "<Figure size 640x480 with 1 Axes>"
            ],
            "image/png": "[encoded data removed]"
          },
          "metadata": {}
        }
      ]
    },
    {
      "cell_type": "code",
      "source": [
        "model = nn.Linear(input_size,output_size)"
      ],
      "metadata": {
        "id": "OpLDpygtrPp_"
      },
      "execution_count": 13,
      "outputs": []
    },
    {
      "cell_type": "code",
      "source": [
        "model.load_state_dict(torch.load('model.ckpt'))"
      ],
      "metadata": {
        "colab": {
          "base_uri": "https://localhost:8080/"
        },
        "id": "1varebMErweN",
        "outputId": "5c577d25-a07d-4e45-821b-d15ba599083b"
      },
      "execution_count": 14,
      "outputs": [
        {
          "output_type": "execute_result",
          "data": {
            "text/plain": [
              "<All keys matched successfully>"
            ]
          },
          "metadata": {},
          "execution_count": 14
        }
      ]
    },
    {
      "cell_type": "code",
      "source": [
        "model.load_state_dict(torch.load('model.ckpt'))"
      ],
      "metadata": {
        "colab": {
          "base_uri": "https://localhost:8080/"
        },
        "id": "13ULrexAr41_",
        "outputId": "d2b89781-e770-4c81-cb1c-6709a95503dd"
      },
      "execution_count": 19,
      "outputs": [
        {
          "output_type": "execute_result",
          "data": {
            "text/plain": [
              "<All keys matched successfully>"
            ]
          },
          "metadata": {},
          "execution_count": 19
        }
      ]
    },
    {
      "cell_type": "code",
      "source": [],
      "metadata": {
        "id": "L4BlNpOir8bz"
      },
      "execution_count": null,
      "outputs": []
    }
  ]
}