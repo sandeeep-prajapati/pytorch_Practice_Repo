{
  "nbformat": 4,
  "nbformat_minor": 0,
  "metadata": {
    "colab": {
      "provenance": [],
      "authorship_tag": "ABX9TyNQPxc4sckuNPfpBvR202Qj",
      "include_colab_link": true
    },
    "kernelspec": {
      "name": "python3",
      "display_name": "Python 3"
    },
    "language_info": {
      "name": "python"
    }
  },
  "cells": [
    {
      "cell_type": "markdown",
      "metadata": {
        "id": "view-in-github",
        "colab_type": "text"
      },
      "source": [
        "<a href=\"https://colab.research.google.com/github/sandeeep-prajapati/pytorch_Practice_Repo/blob/main/Untitled0.ipynb\" target=\"_parent\"><img src=\"https://colab.research.google.com/assets/colab-badge.svg\" alt=\"Open In Colab\"/></a>"
      ]
    },
    {
      "cell_type": "code",
      "execution_count": 1,
      "metadata": {
        "id": "3TpUVblodQH_"
      },
      "outputs": [],
      "source": [
        "import torch\n",
        "import numpy as np\n",
        "import torch.nn as nn\n",
        "from sklearn.datasets import make_regression\n",
        "import matplotlib.pyplot as plt"
      ]
    },
    {
      "cell_type": "code",
      "source": [
        "x_train = np.array([[3.3], [4.4], [5.5], [6.71], [6.93], [4.168],\n",
        "                    [9.779], [6.182], [7.59], [2.167], [7.042],\n",
        "                    [10.791], [5.313], [7.997], [3.1]], dtype=np.float32)\n",
        "\n",
        "y_train = np.array([[1.7], [2.76], [2.09], [3.19], [1.694], [1.573],\n",
        "                    [3.366], [2.596], [2.53], [1.221], [2.827],\n",
        "                    [3.465], [1.65], [2.904], [1.3]], dtype=np.float32)\n",
        "\n",
        "print(x_train.shape, y_train.shape)"
      ],
      "metadata": {
        "colab": {
          "base_uri": "https://localhost:8080/"
        },
        "id": "KRQ3hlC2hkVD",
        "outputId": "393006b6-2721-4066-ddf6-0a021d37c995"
      },
      "execution_count": 6,
      "outputs": [
        {
          "output_type": "stream",
          "name": "stdout",
          "text": [
            "(15, 1) (15, 1)\n"
          ]
        }
      ]
    },
    {
      "cell_type": "code",
      "source": [
        "# hyper parameters\n",
        "input = 1\n",
        "output = 1\n",
        "num_epochs =200\n",
        "lerning_rate =0.001\n"
      ],
      "metadata": {
        "id": "GvGNolWriR-R"
      },
      "execution_count": 7,
      "outputs": []
    },
    {
      "cell_type": "code",
      "source": [
        "model = nn.Linear(input,output)\n",
        "criterion = nn.MSELoss()\n",
        "optimizer = torch.optim.SGD(model.parameters(),lr=lerning_rate)"
      ],
      "metadata": {
        "id": "lS_Wz-Y1jNNw"
      },
      "execution_count": 8,
      "outputs": []
    },
    {
      "cell_type": "code",
      "source": [
        "model"
      ],
      "metadata": {
        "colab": {
          "base_uri": "https://localhost:8080/"
        },
        "id": "F4jxSiehj3rK",
        "outputId": "051c7143-bcaf-464f-9879-f8e6f1b191ab"
      },
      "execution_count": 9,
      "outputs": [
        {
          "output_type": "execute_result",
          "data": {
            "text/plain": [
              "Linear(in_features=1, out_features=1, bias=True)"
            ]
          },
          "metadata": {},
          "execution_count": 9
        }
      ]
    },
    {
      "cell_type": "code",
      "source": [
        "for epoch in range(num_epochs):\n",
        "  inputs = torch.from_numpy(x_train)\n",
        "  targets = torch.from_numpy(y_train)\n",
        "  outputs = model(inputs)\n",
        "  loss =criterion(outputs,targets)\n",
        "  loss.backward()\n",
        "  optimizer.step()\n",
        "  optimizer.zero_grad()\n",
        "  if (epoch+1) % 5 == 0:\n",
        "        #torch.Tensor.item() : number\n",
        "        print ('Epoch [{}/{}], Loss: {:.4f}'.format(epoch+1, num_epochs, loss.item()))\n",
        "\n"
      ],
      "metadata": {
        "colab": {
          "base_uri": "https://localhost:8080/"
        },
        "id": "lcPQdaqpj4iH",
        "outputId": "58281356-d0a8-4e53-ba54-ad8700f4d33c"
      },
      "execution_count": 11,
      "outputs": [
        {
          "output_type": "stream",
          "name": "stdout",
          "text": [
            "Epoch [5/200], Loss: 1.1947\n",
            "Epoch [10/200], Loss: 0.5875\n",
            "Epoch [15/200], Loss: 0.3415\n",
            "Epoch [20/200], Loss: 0.2418\n",
            "Epoch [25/200], Loss: 0.2015\n",
            "Epoch [30/200], Loss: 0.1851\n",
            "Epoch [35/200], Loss: 0.1785\n",
            "Epoch [40/200], Loss: 0.1758\n",
            "Epoch [45/200], Loss: 0.1747\n",
            "Epoch [50/200], Loss: 0.1742\n",
            "Epoch [55/200], Loss: 0.1740\n",
            "Epoch [60/200], Loss: 0.1739\n",
            "Epoch [65/200], Loss: 0.1739\n",
            "Epoch [70/200], Loss: 0.1739\n",
            "Epoch [75/200], Loss: 0.1738\n",
            "Epoch [80/200], Loss: 0.1738\n",
            "Epoch [85/200], Loss: 0.1738\n",
            "Epoch [90/200], Loss: 0.1738\n",
            "Epoch [95/200], Loss: 0.1738\n",
            "Epoch [100/200], Loss: 0.1738\n",
            "Epoch [105/200], Loss: 0.1738\n",
            "Epoch [110/200], Loss: 0.1737\n",
            "Epoch [115/200], Loss: 0.1737\n",
            "Epoch [120/200], Loss: 0.1737\n",
            "Epoch [125/200], Loss: 0.1737\n",
            "Epoch [130/200], Loss: 0.1737\n",
            "Epoch [135/200], Loss: 0.1737\n",
            "Epoch [140/200], Loss: 0.1737\n",
            "Epoch [145/200], Loss: 0.1737\n",
            "Epoch [150/200], Loss: 0.1737\n",
            "Epoch [155/200], Loss: 0.1736\n",
            "Epoch [160/200], Loss: 0.1736\n",
            "Epoch [165/200], Loss: 0.1736\n",
            "Epoch [170/200], Loss: 0.1736\n",
            "Epoch [175/200], Loss: 0.1736\n",
            "Epoch [180/200], Loss: 0.1736\n",
            "Epoch [185/200], Loss: 0.1736\n",
            "Epoch [190/200], Loss: 0.1736\n",
            "Epoch [195/200], Loss: 0.1735\n",
            "Epoch [200/200], Loss: 0.1735\n"
          ]
        }
      ]
    },
    {
      "cell_type": "code",
      "source": [],
      "metadata": {
        "id": "Z2iezuQxk2Ue"
      },
      "execution_count": null,
      "outputs": []
    }
  ]
}