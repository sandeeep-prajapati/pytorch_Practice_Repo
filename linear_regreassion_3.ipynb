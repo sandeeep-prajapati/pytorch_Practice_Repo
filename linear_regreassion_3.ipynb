{
  "nbformat": 4,
  "nbformat_minor": 0,
  "metadata": {
    "colab": {
      "provenance": [],
      "authorship_tag": "ABX9TyO/dem/FiPtrorpBXmNSOYQ",
      "include_colab_link": true
    },
    "kernelspec": {
      "name": "python3",
      "display_name": "Python 3"
    },
    "language_info": {
      "name": "python"
    }
  },
  "cells": [
    {
      "cell_type": "markdown",
      "metadata": {
        "id": "view-in-github",
        "colab_type": "text"
      },
      "source": [
        "<a href=\"https://colab.research.google.com/github/sandeeep-prajapati/pytorch_Practice_Repo/blob/main/linear_regreassion_3.ipynb\" target=\"_parent\"><img src=\"https://colab.research.google.com/assets/colab-badge.svg\" alt=\"Open In Colab\"/></a>"
      ]
    },
    {
      "cell_type": "code",
      "execution_count": 3,
      "metadata": {
        "id": "HUKoOCZTF1TN"
      },
      "outputs": [],
      "source": [
        "import torch\n",
        "import torch.nn as nn\n",
        "import numpy as np\n",
        "import matplotlib.pyplot as plt\n"
      ]
    },
    {
      "cell_type": "code",
      "source": [
        "input_size = 1\n",
        "output_size = 1\n",
        "num_epochs = 60\n",
        "learning_rate = 0.001"
      ],
      "metadata": {
        "id": "uekczU34GaCR"
      },
      "execution_count": 4,
      "outputs": []
    },
    {
      "cell_type": "code",
      "source": [
        "x_train = np.array([[3.3], [4.4], [5.5], [6.71], [6.93], [4.168],\n",
        "                    [9.779], [6.182], [7.59], [2.167], [7.042],\n",
        "                    [10.791], [5.313], [7.997], [3.1]], dtype=np.float32)\n",
        "\n",
        "y_train = np.array([[1.7], [2.76], [2.09], [3.19], [1.694], [1.573],\n",
        "                    [3.366], [2.596], [2.53], [1.221], [2.827],\n",
        "                    [3.465], [1.65], [2.904], [1.3]], dtype=np.float32)"
      ],
      "metadata": {
        "id": "Rixc4crJGyFi"
      },
      "execution_count": 5,
      "outputs": []
    },
    {
      "cell_type": "code",
      "source": [
        "print(x_train.shape, y_train.shape)"
      ],
      "metadata": {
        "colab": {
          "base_uri": "https://localhost:8080/"
        },
        "id": "IkVjDp41GzLM",
        "outputId": "f18f9b22-f1c3-4101-e5ba-84b16d82e044"
      },
      "execution_count": 6,
      "outputs": [
        {
          "output_type": "stream",
          "name": "stdout",
          "text": [
            "(15, 1) (15, 1)\n"
          ]
        }
      ]
    },
    {
      "cell_type": "code",
      "source": [
        "model = nn.Linear(input_size,output_size)\n",
        "criterian = nn.MSELoss()\n",
        "optimizer = torch.optim.SGD(model.parameters(),lr=learning_rate)"
      ],
      "metadata": {
        "id": "wbwjfjMEG13s"
      },
      "execution_count": 9,
      "outputs": []
    },
    {
      "cell_type": "code",
      "source": [
        "for epoch in range(num_epochs):\n",
        "  inputs = torch.from_numpy(x_train)\n",
        "  output = torch.from_numpy(y_train)\n",
        "  outputs = model(output)\n",
        "  loss = criterian(outputs,output)\n",
        "  optimizer.zero_grad()\n",
        "  loss.backward()\n",
        "  optimizer.step()\n",
        "  if (epoch+1) % 5 == 0:\n",
        "        #torch.Tensor.item() : number\n",
        "      print ('Epoch [{}/{}], Loss: {:.4f}'.format(epoch+1, num_epochs, loss.item()))\n"
      ],
      "metadata": {
        "colab": {
          "base_uri": "https://localhost:8080/"
        },
        "id": "GHctMXZDHBsP",
        "outputId": "4c0e2b0d-b4ad-4e13-b5cb-00a90051dcf1"
      },
      "execution_count": 16,
      "outputs": [
        {
          "output_type": "stream",
          "name": "stdout",
          "text": [
            "Epoch [5/60], Loss: 0.2336\n",
            "Epoch [10/60], Loss: 0.2238\n",
            "Epoch [15/60], Loss: 0.2152\n",
            "Epoch [20/60], Loss: 0.2077\n",
            "Epoch [25/60], Loss: 0.2011\n",
            "Epoch [30/60], Loss: 0.1953\n",
            "Epoch [35/60], Loss: 0.1903\n",
            "Epoch [40/60], Loss: 0.1858\n",
            "Epoch [45/60], Loss: 0.1819\n",
            "Epoch [50/60], Loss: 0.1785\n",
            "Epoch [55/60], Loss: 0.1755\n",
            "Epoch [60/60], Loss: 0.1728\n"
          ]
        }
      ]
    },
    {
      "cell_type": "code",
      "source": [
        "predicted = model(torch.from_numpy(x_train)).detach().numpy()\n",
        "plt.plot(x_train, y_train, 'ro', label='Original data')\n",
        "plt.plot(x_train, predicted, label='Fitted line')\n",
        "plt.legend()\n",
        "plt.show()"
      ],
      "metadata": {
        "colab": {
          "base_uri": "https://localhost:8080/",
          "height": 430
        },
        "id": "fkWB2PorJWsG",
        "outputId": "f2e675b7-39af-4464-e342-1d239c9b2e6a"
      },
      "execution_count": 17,
      "outputs": [
        {
          "output_type": "display_data",
          "data": {
            "text/plain": [
              "<Figure size 640x480 with 1 Axes>"
            ],
            "image/png": "[encoded data removed]"
          },
          "metadata": {}
        }
      ]
    },
    {
      "cell_type": "code",
      "source": [],
      "metadata": {
        "id": "pgsDn-ZrJtH5"
      },
      "execution_count": null,
      "outputs": []
    }
  ]
}