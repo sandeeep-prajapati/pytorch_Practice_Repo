{
  "nbformat": 4,
  "nbformat_minor": 0,
  "metadata": {
    "colab": {
      "provenance": [],
      "authorship_tag": "ABX9TyMHoUQZq4YWyZkSVX8aoJDI",
      "include_colab_link": true
    },
    "kernelspec": {
      "name": "python3",
      "display_name": "Python 3"
    },
    "language_info": {
      "name": "python"
    }
  },
  "cells": [
    {
      "cell_type": "markdown",
      "metadata": {
        "id": "view-in-github",
        "colab_type": "text"
      },
      "source": [
        "<a href=\"https://colab.research.google.com/github/sandeeep-prajapati/pytorch_Practice_Repo/blob/main/pytorch_basics_revision_3.ipynb\" target=\"_parent\"><img src=\"https://colab.research.google.com/assets/colab-badge.svg\" alt=\"Open In Colab\"/></a>"
      ]
    },
    {
      "cell_type": "code",
      "execution_count": 18,
      "metadata": {
        "id": "BA8ejvaV9r_O"
      },
      "outputs": [],
      "source": [
        "import torch\n",
        "import torchvision\n",
        "import torch.nn as nn\n",
        "import numpy as np\n",
        "import torchvision.transforms as transforms"
      ]
    },
    {
      "cell_type": "code",
      "source": [
        "X = torch.tensor(1.,requires_grad=True)\n",
        "w = torch.tensor(2., requires_grad=True)\n",
        "b = torch.tensor(3., requires_grad = True)"
      ],
      "metadata": {
        "id": "mDq1lV_a-RhK"
      },
      "execution_count": 19,
      "outputs": []
    },
    {
      "cell_type": "code",
      "source": [
        "y = w*X +b"
      ],
      "metadata": {
        "id": "8YEm8APY-sxZ"
      },
      "execution_count": 20,
      "outputs": []
    },
    {
      "cell_type": "code",
      "source": [
        "y.backward()"
      ],
      "metadata": {
        "id": "Pcc3Q7CK-58x"
      },
      "execution_count": 21,
      "outputs": []
    },
    {
      "cell_type": "code",
      "source": [
        "print(X.grad)\n",
        "print(w.grad)\n",
        "print(b.grad)"
      ],
      "metadata": {
        "colab": {
          "base_uri": "https://localhost:8080/"
        },
        "id": "AKEoMkjK-8IC",
        "outputId": "7d443a4c-4b2b-4b73-a829-392fd62fb4cf"
      },
      "execution_count": 22,
      "outputs": [
        {
          "output_type": "stream",
          "name": "stdout",
          "text": [
            "tensor(2.)\n",
            "tensor(1.)\n",
            "tensor(1.)\n"
          ]
        }
      ]
    },
    {
      "cell_type": "code",
      "source": [
        "x = torch.randn(10,3)\n",
        "y= torch.randn(10,2)"
      ],
      "metadata": {
        "id": "WNAwUaFY_GpN"
      },
      "execution_count": 23,
      "outputs": []
    },
    {
      "cell_type": "code",
      "source": [
        "linear = nn.Linear(3,2)\n",
        "print('w: ',linear.weight)\n",
        "print('b: ',linear.bias)"
      ],
      "metadata": {
        "colab": {
          "base_uri": "https://localhost:8080/"
        },
        "id": "9GEeknvX_W2u",
        "outputId": "f0dc3db4-0efd-494f-affd-617cd5de9ccd"
      },
      "execution_count": 24,
      "outputs": [
        {
          "output_type": "stream",
          "name": "stdout",
          "text": [
            "w:  Parameter containing:\n",
            "tensor([[ 0.5612,  0.1654,  0.2492],\n",
            "        [ 0.0247, -0.1843, -0.1883]], requires_grad=True)\n",
            "b:  Parameter containing:\n",
            "tensor([0.4882, 0.3898], requires_grad=True)\n"
          ]
        }
      ]
    },
    {
      "cell_type": "code",
      "source": [
        "criterian = nn.MSELoss()\n",
        "optimizer = torch.optim.SGD(linear.parameters(), lr=0.01)"
      ],
      "metadata": {
        "id": "sA-8i-8r_oiI"
      },
      "execution_count": 25,
      "outputs": []
    },
    {
      "cell_type": "code",
      "source": [
        "pred = linear(x)"
      ],
      "metadata": {
        "id": "UQDw3sJq_-_t"
      },
      "execution_count": 26,
      "outputs": []
    },
    {
      "cell_type": "code",
      "source": [
        "loss = criterian(pred,y)\n",
        "print('loss : ',loss.item())\n",
        "\n",
        "print('dl/dw : ',linear.weight.grad)\n",
        "print('dl/db : ',linear.bias.grad)\n"
      ],
      "metadata": {
        "colab": {
          "base_uri": "https://localhost:8080/"
        },
        "id": "mWLRSApaAB8Y",
        "outputId": "eb57d9fa-4897-49da-dc35-b5ea25b1fff4"
      },
      "execution_count": 33,
      "outputs": [
        {
          "output_type": "stream",
          "name": "stdout",
          "text": [
            "loss :  1.541520357131958\n",
            "dl/dw :  tensor([[-0.9762,  0.0279, -0.0170],\n",
            "        [-0.2750, -0.3477, -0.0629]])\n",
            "dl/db :  tensor([-0.4028,  0.4643])\n"
          ]
        }
      ]
    },
    {
      "cell_type": "code",
      "source": [
        "a = torch.tensor(2)\n",
        "b = torch.tensor(1)\n",
        "print('a:',a,'b:',b)\n",
        "print('a-b using sub', a.data.sub(b))\n",
        "print('after sub', 'a:', a, 'b:', b)\n",
        "print('a-b using sub_', a.data.sub_(b))\n",
        "print('after sub_', 'a:', a, 'b:', b)"
      ],
      "metadata": {
        "colab": {
          "base_uri": "https://localhost:8080/"
        },
        "id": "hu3N9XEOBa2c",
        "outputId": "4c1f0aa9-0690-4577-c33c-b6be79bdc30a"
      },
      "execution_count": 34,
      "outputs": [
        {
          "output_type": "stream",
          "name": "stdout",
          "text": [
            "a: tensor(2) b: tensor(1)\n",
            "a-b using sub tensor(1)\n",
            "after sub a: tensor(2) b: tensor(1)\n",
            "a-b using sub_ tensor(1)\n",
            "after sub_ a: tensor(1) b: tensor(1)\n"
          ]
        }
      ]
    },
    {
      "cell_type": "code",
      "source": [
        "x= np.array([[1,2],[3,4]])\n",
        "y = torch.from_numpy(x)\n",
        "print(\"y : \", y)\n",
        "z = y.numpy()\n",
        "print('z : ',z)\n",
        "if np.all(x==z):\n",
        "  print('x is equal to z!')"
      ],
      "metadata": {
        "colab": {
          "base_uri": "https://localhost:8080/"
        },
        "id": "N89MY4f1B_ft",
        "outputId": "21187755-e835-44f8-d723-763d93289d15"
      },
      "execution_count": 35,
      "outputs": [
        {
          "output_type": "stream",
          "name": "stdout",
          "text": [
            "y :  tensor([[1, 2],\n",
            "        [3, 4]])\n",
            "z :  [[1 2]\n",
            " [3 4]]\n",
            "x is equal to z!\n"
          ]
        }
      ]
    },
    {
      "cell_type": "code",
      "source": [
        "train_dataset = torchvision.datasets.CIFAR10(root='./data',\n",
        "                                             train = True,\n",
        "                                             transform = transforms.ToTensor(),\n",
        "                                             download = True)"
      ],
      "metadata": {
        "colab": {
          "base_uri": "https://localhost:8080/"
        },
        "id": "qNJaJG_CCihd",
        "outputId": "3ce3c621-4c4c-4381-e42f-243ed38452d2"
      },
      "execution_count": 36,
      "outputs": [
        {
          "output_type": "stream",
          "name": "stdout",
          "text": [
            "Downloading https://www.cs.toronto.edu/~kriz/cifar-10-python.tar.gz to ./data/cifar-10-python.tar.gz\n"
          ]
        },
        {
          "output_type": "stream",
          "name": "stderr",
          "text": [
            "100%|██████████| 170498071/170498071 [00:10<00:00, 15860870.67it/s]\n"
          ]
        },
        {
          "output_type": "stream",
          "name": "stdout",
          "text": [
            "Extracting ./data/cifar-10-python.tar.gz to ./data\n"
          ]
        }
      ]
    },
    {
      "cell_type": "code",
      "source": [
        "image,label = train_dataset[0]\n",
        "print('images size : ',image.size())\n",
        "print('Label : ',label)"
      ],
      "metadata": {
        "colab": {
          "base_uri": "https://localhost:8080/"
        },
        "id": "7R9f_mXqDJHE",
        "outputId": "2a77b0ea-0ed8-433d-9677-d66a90765495"
      },
      "execution_count": 37,
      "outputs": [
        {
          "output_type": "stream",
          "name": "stdout",
          "text": [
            "images size :  torch.Size([3, 32, 32])\n",
            "Label :  6\n"
          ]
        }
      ]
    },
    {
      "cell_type": "code",
      "source": [
        "train_loader=torch.utils.data.dataloader(dataset=train_dataset,\n",
        "                                         batch_size = 64,\n",
        "                                         shuffle = True)\n",
        "data_iter = iter(train_loader)\n",
        "image,labels = iter(train_loader)\n",
        "print('iamges size : ',image.size())\n",
        "print('Labels : ',labels)\n",
        "\n",
        "for images,labels in train_loader:\n",
        "  pass"
      ],
      "metadata": {
        "id": "maEU-Qj2Dh6A"
      },
      "execution_count": null,
      "outputs": []
    },
    {
      "cell_type": "code",
      "source": [],
      "metadata": {
        "id": "--OoM5m8Fe5k"
      },
      "execution_count": null,
      "outputs": []
    }
  ]
}