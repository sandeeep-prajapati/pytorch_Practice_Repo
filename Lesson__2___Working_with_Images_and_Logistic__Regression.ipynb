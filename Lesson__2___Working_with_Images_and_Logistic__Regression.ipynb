{
  "nbformat": 4,
  "nbformat_minor": 0,
  "metadata": {
    "colab": {
      "provenance": []
    },
    "kernelspec": {
      "name": "python3",
      "display_name": "Python 3"
    },
    "language_info": {
      "name": "python"
    }
  },
  "cells": [
    {
      "cell_type": "code",
      "execution_count": 32,
      "metadata": {
        "id": "byLeTd4eulBQ"
      },
      "outputs": [],
      "source": [
        "import torch\n",
        "import torchvision\n",
        "from torchvision.datasets import MNIST"
      ]
    },
    {
      "cell_type": "code",
      "source": [
        "dataset = MNIST(root='data/',download = True)"
      ],
      "metadata": {
        "id": "HIH1DizkvTs9"
      },
      "execution_count": 33,
      "outputs": []
    },
    {
      "cell_type": "code",
      "source": [
        "len(dataset)"
      ],
      "metadata": {
        "colab": {
          "base_uri": "https://localhost:8080/"
        },
        "id": "-nANABoUvh2-",
        "outputId": "30348fdf-5870-43ed-f433-8c0081b7e445"
      },
      "execution_count": 34,
      "outputs": [
        {
          "output_type": "execute_result",
          "data": {
            "text/plain": [
              "60000"
            ]
          },
          "metadata": {},
          "execution_count": 34
        }
      ]
    },
    {
      "cell_type": "code",
      "source": [
        "test_dataset = MNIST(root='data/',train=False)\n",
        "len(test_dataset)"
      ],
      "metadata": {
        "colab": {
          "base_uri": "https://localhost:8080/"
        },
        "id": "Zcm5JJmRweww",
        "outputId": "96f9a5fc-5ead-4d96-d776-73e49cb76e7d"
      },
      "execution_count": 35,
      "outputs": [
        {
          "output_type": "execute_result",
          "data": {
            "text/plain": [
              "10000"
            ]
          },
          "metadata": {},
          "execution_count": 35
        }
      ]
    },
    {
      "cell_type": "code",
      "source": [
        "dataset[0]"
      ],
      "metadata": {
        "colab": {
          "base_uri": "https://localhost:8080/"
        },
        "id": "jhH-M7Znwwoq",
        "outputId": "e52e3e22-03f1-49d6-a6b8-6435336b6786"
      },
      "execution_count": 36,
      "outputs": [
        {
          "output_type": "execute_result",
          "data": {
            "text/plain": [
              "(<PIL.Image.Image image mode=L size=28x28>, 5)"
            ]
          },
          "metadata": {},
          "execution_count": 36
        }
      ]
    },
    {
      "cell_type": "code",
      "source": [
        "import matplotlib.pyplot as plt\n",
        "%matplotlib inline"
      ],
      "metadata": {
        "id": "3nQvUdhuw1at"
      },
      "execution_count": 37,
      "outputs": []
    },
    {
      "cell_type": "code",
      "source": [
        "image, label = dataset[0]\n",
        "plt.imshow(image,cmap='gray')\n",
        "print('Lable : ',label)"
      ],
      "metadata": {
        "colab": {
          "base_uri": "https://localhost:8080/",
          "height": 447
        },
        "id": "5j6WFifsw-oA",
        "outputId": "31db48ee-c672-4733-9476-a8acc750f8b8"
      },
      "execution_count": 38,
      "outputs": [
        {
          "output_type": "stream",
          "name": "stdout",
          "text": [
            "Lable :  5\n"
          ]
        },
        {
          "output_type": "display_data",
          "data": {
            "text/plain": [
              "<Figure size 640x480 with 1 Axes>"
            ],
            "image/png": "[encoded data removed]"
          },
          "metadata": {}
        }
      ]
    },
    {
      "cell_type": "code",
      "source": [
        "image,label = dataset[10]\n",
        "plt.imshow(image,cmap='gray')\n",
        "print('Label : ',label)"
      ],
      "metadata": {
        "colab": {
          "base_uri": "https://localhost:8080/",
          "height": 447
        },
        "id": "iELBGlOBxWP8",
        "outputId": "3e4d577e-cc4c-49e8-9775-3de42e7a6d69"
      },
      "execution_count": 39,
      "outputs": [
        {
          "output_type": "stream",
          "name": "stdout",
          "text": [
            "Label :  3\n"
          ]
        },
        {
          "output_type": "display_data",
          "data": {
            "text/plain": [
              "<Figure size 640x480 with 1 Axes>"
            ],
            "image/png": "[encoded data removed]"
          },
          "metadata": {}
        }
      ]
    },
    {
      "cell_type": "code",
      "source": [
        "import torchvision.transforms as transforms"
      ],
      "metadata": {
        "id": "HFuAwjMm1eiz"
      },
      "execution_count": 40,
      "outputs": []
    },
    {
      "cell_type": "code",
      "source": [
        "dataset = MNIST(root='data/', train=True, transform=transforms.ToTensor())"
      ],
      "metadata": {
        "id": "TyyQNjgI1upt"
      },
      "execution_count": 41,
      "outputs": []
    },
    {
      "cell_type": "code",
      "source": [
        "img_tensor, label = dataset[0]\n",
        "print(img_tensor.shape, label)"
      ],
      "metadata": {
        "colab": {
          "base_uri": "https://localhost:8080/"
        },
        "id": "JwWmmQg82Trx",
        "outputId": "5d029a64-5810-44e4-d1bb-ef4efe3f9d36"
      },
      "execution_count": 42,
      "outputs": [
        {
          "output_type": "stream",
          "name": "stdout",
          "text": [
            "torch.Size([1, 28, 28]) 5\n"
          ]
        }
      ]
    },
    {
      "cell_type": "code",
      "source": [
        "print(img_tensor[0,10:15,10:15])\n",
        "print(torch.max(img_tensor), torch.min(img_tensor))"
      ],
      "metadata": {
        "colab": {
          "base_uri": "https://localhost:8080/"
        },
        "id": "eYc_zA9K2fwX",
        "outputId": "4ea99d9e-c3ec-441c-d232-04a56a458b44"
      },
      "execution_count": 43,
      "outputs": [
        {
          "output_type": "stream",
          "name": "stdout",
          "text": [
            "tensor([[0.0039, 0.6039, 0.9922, 0.3529, 0.0000],\n",
            "        [0.0000, 0.5451, 0.9922, 0.7451, 0.0078],\n",
            "        [0.0000, 0.0431, 0.7451, 0.9922, 0.2745],\n",
            "        [0.0000, 0.0000, 0.1373, 0.9451, 0.8824],\n",
            "        [0.0000, 0.0000, 0.0000, 0.3176, 0.9412]])\n",
            "tensor(1.) tensor(0.)\n"
          ]
        }
      ]
    },
    {
      "cell_type": "code",
      "source": [
        "plt.imshow(img_tensor[0,10:15,10:15],cmap='gray')"
      ],
      "metadata": {
        "colab": {
          "base_uri": "https://localhost:8080/",
          "height": 447
        },
        "id": "lezTSWOF2ogF",
        "outputId": "da39917d-4c00-4df9-8d68-e28ae0593e4f"
      },
      "execution_count": 44,
      "outputs": [
        {
          "output_type": "execute_result",
          "data": {
            "text/plain": [
              "<matplotlib.image.AxesImage at 0x7fb45f512a10>"
            ]
          },
          "metadata": {},
          "execution_count": 44
        },
        {
          "output_type": "display_data",
          "data": {
            "text/plain": [
              "<Figure size 640x480 with 1 Axes>"
            ],
            "image/png": "[encoded data removed]"
          },
          "metadata": {}
        }
      ]
    },
    {
      "cell_type": "code",
      "source": [
        "from torch.utils.data import random_split\n",
        "train_ds, val_ds = random_split(dataset,[50000,10000])\n",
        "len(train_ds), len(val_ds)"
      ],
      "metadata": {
        "colab": {
          "base_uri": "https://localhost:8080/"
        },
        "id": "G9nrIsyN27yn",
        "outputId": "a5b0a4bf-ae92-49bb-92dd-52a20a6540b9"
      },
      "execution_count": 45,
      "outputs": [
        {
          "output_type": "execute_result",
          "data": {
            "text/plain": [
              "(50000, 10000)"
            ]
          },
          "metadata": {},
          "execution_count": 45
        }
      ]
    },
    {
      "cell_type": "code",
      "source": [
        "from torch.utils.data import DataLoader\n",
        "batch_size = 128\n",
        "train_loader = DataLoader(train_ds,batch_size,shuffle=True)\n",
        "val_loader=DataLoader(val_ds, batch_size)"
      ],
      "metadata": {
        "id": "xWplSgH23aGM"
      },
      "execution_count": 46,
      "outputs": []
    },
    {
      "cell_type": "code",
      "source": [
        "import torch.nn as nn\n",
        "\n",
        "input_size = 28*28\n",
        "num_classes = 10\n",
        "\n",
        "# Logistic regression model\n",
        "model = nn.Linear(input_size, num_classes)"
      ],
      "metadata": {
        "id": "alpW-R5i393k"
      },
      "execution_count": 47,
      "outputs": []
    },
    {
      "cell_type": "code",
      "source": [
        "print(model.weight.shape)\n",
        "model.weight"
      ],
      "metadata": {
        "colab": {
          "base_uri": "https://localhost:8080/"
        },
        "id": "3M3vx_4s4Fs6",
        "outputId": "66aa839a-136a-4976-e3af-ac12bc430e6f"
      },
      "execution_count": 48,
      "outputs": [
        {
          "output_type": "stream",
          "name": "stdout",
          "text": [
            "torch.Size([10, 784])\n"
          ]
        },
        {
          "output_type": "execute_result",
          "data": {
            "text/plain": [
              "Parameter containing:\n",
              "tensor([[-0.0161,  0.0035,  0.0320,  ..., -0.0029,  0.0336, -0.0281],\n",
              "        [-0.0166, -0.0276, -0.0049,  ..., -0.0137, -0.0050,  0.0238],\n",
              "        [-0.0112,  0.0046, -0.0229,  ..., -0.0157,  0.0295,  0.0225],\n",
              "        ...,\n",
              "        [ 0.0224, -0.0228,  0.0175,  ..., -0.0162,  0.0224, -0.0167],\n",
              "        [-0.0170, -0.0029, -0.0244,  ..., -0.0219,  0.0270,  0.0281],\n",
              "        [-0.0198, -0.0076,  0.0239,  ...,  0.0260, -0.0231, -0.0204]],\n",
              "       requires_grad=True)"
            ]
          },
          "metadata": {},
          "execution_count": 48
        }
      ]
    },
    {
      "cell_type": "code",
      "source": [
        "for images, labels in train_loader:\n",
        "    print(labels)\n",
        "    print(images.shape)\n",
        "    outputs = model(images)\n",
        "    print(outputs)\n",
        "    break"
      ],
      "metadata": {
        "colab": {
          "base_uri": "https://localhost:8080/",
          "height": 478
        },
        "id": "kII7u6_y4OH6",
        "outputId": "5ef0a9ac-7f29-4ca3-c5a6-0ef2f73c1e43"
      },
      "execution_count": 51,
      "outputs": [
        {
          "output_type": "stream",
          "name": "stdout",
          "text": [
            "tensor([9, 0, 9, 3, 1, 9, 0, 1, 0, 7, 1, 3, 3, 4, 9, 9, 3, 3, 1, 4, 7, 6, 4, 3,\n",
            "        3, 0, 5, 6, 0, 1, 5, 6, 0, 9, 1, 0, 3, 5, 0, 4, 1, 2, 4, 9, 9, 3, 2, 3,\n",
            "        2, 3, 0, 9, 3, 6, 0, 0, 2, 6, 4, 4, 0, 7, 4, 5, 9, 2, 5, 0, 7, 1, 6, 2,\n",
            "        2, 7, 0, 4, 1, 4, 1, 0, 5, 2, 9, 8, 0, 3, 2, 4, 3, 1, 9, 1, 6, 4, 8, 0,\n",
            "        1, 7, 6, 4, 2, 5, 7, 5, 4, 0, 1, 1, 2, 7, 0, 7, 6, 6, 4, 8, 4, 5, 9, 8,\n",
            "        4, 4, 3, 0, 8, 5, 5, 8])\n",
            "torch.Size([128, 1, 28, 28])\n"
          ]
        },
        {
          "output_type": "error",
          "ename": "RuntimeError",
          "evalue": "mat1 and mat2 shapes cannot be multiplied (3584x28 and 784x10)",
          "traceback": [
            "\u001b[0;31m---------------------------------------------------------------------------\u001b[0m",
            "\u001b[0;31mRuntimeError\u001b[0m                              Traceback (most recent call last)",
            "\u001b[0;32m<ipython-input-51-d0fe7d306f83>\u001b[0m in \u001b[0;36m<cell line: 1>\u001b[0;34m()\u001b[0m\n\u001b[1;32m      2\u001b[0m     \u001b[0mprint\u001b[0m\u001b[0;34m(\u001b[0m\u001b[0mlabels\u001b[0m\u001b[0;34m)\u001b[0m\u001b[0;34m\u001b[0m\u001b[0;34m\u001b[0m\u001b[0m\n\u001b[1;32m      3\u001b[0m     \u001b[0mprint\u001b[0m\u001b[0;34m(\u001b[0m\u001b[0mimages\u001b[0m\u001b[0;34m.\u001b[0m\u001b[0mshape\u001b[0m\u001b[0;34m)\u001b[0m\u001b[0;34m\u001b[0m\u001b[0;34m\u001b[0m\u001b[0m\n\u001b[0;32m----> 4\u001b[0;31m     \u001b[0moutputs\u001b[0m \u001b[0;34m=\u001b[0m \u001b[0mmodel\u001b[0m\u001b[0;34m(\u001b[0m\u001b[0mimages\u001b[0m\u001b[0;34m)\u001b[0m\u001b[0;34m\u001b[0m\u001b[0;34m\u001b[0m\u001b[0m\n\u001b[0m\u001b[1;32m      5\u001b[0m     \u001b[0mprint\u001b[0m\u001b[0;34m(\u001b[0m\u001b[0moutputs\u001b[0m\u001b[0;34m)\u001b[0m\u001b[0;34m\u001b[0m\u001b[0;34m\u001b[0m\u001b[0m\n\u001b[1;32m      6\u001b[0m     \u001b[0;32mbreak\u001b[0m\u001b[0;34m\u001b[0m\u001b[0;34m\u001b[0m\u001b[0m\n",
            "\u001b[0;32m/usr/local/lib/python3.10/dist-packages/torch/nn/modules/module.py\u001b[0m in \u001b[0;36m_wrapped_call_impl\u001b[0;34m(self, *args, **kwargs)\u001b[0m\n\u001b[1;32m   1516\u001b[0m             \u001b[0;32mreturn\u001b[0m \u001b[0mself\u001b[0m\u001b[0;34m.\u001b[0m\u001b[0m_compiled_call_impl\u001b[0m\u001b[0;34m(\u001b[0m\u001b[0;34m*\u001b[0m\u001b[0margs\u001b[0m\u001b[0;34m,\u001b[0m \u001b[0;34m**\u001b[0m\u001b[0mkwargs\u001b[0m\u001b[0;34m)\u001b[0m  \u001b[0;31m# type: ignore[misc]\u001b[0m\u001b[0;34m\u001b[0m\u001b[0;34m\u001b[0m\u001b[0m\n\u001b[1;32m   1517\u001b[0m         \u001b[0;32melse\u001b[0m\u001b[0;34m:\u001b[0m\u001b[0;34m\u001b[0m\u001b[0;34m\u001b[0m\u001b[0m\n\u001b[0;32m-> 1518\u001b[0;31m             \u001b[0;32mreturn\u001b[0m \u001b[0mself\u001b[0m\u001b[0;34m.\u001b[0m\u001b[0m_call_impl\u001b[0m\u001b[0;34m(\u001b[0m\u001b[0;34m*\u001b[0m\u001b[0margs\u001b[0m\u001b[0;34m,\u001b[0m \u001b[0;34m**\u001b[0m\u001b[0mkwargs\u001b[0m\u001b[0;34m)\u001b[0m\u001b[0;34m\u001b[0m\u001b[0;34m\u001b[0m\u001b[0m\n\u001b[0m\u001b[1;32m   1519\u001b[0m \u001b[0;34m\u001b[0m\u001b[0m\n\u001b[1;32m   1520\u001b[0m     \u001b[0;32mdef\u001b[0m \u001b[0m_call_impl\u001b[0m\u001b[0;34m(\u001b[0m\u001b[0mself\u001b[0m\u001b[0;34m,\u001b[0m \u001b[0;34m*\u001b[0m\u001b[0margs\u001b[0m\u001b[0;34m,\u001b[0m \u001b[0;34m**\u001b[0m\u001b[0mkwargs\u001b[0m\u001b[0;34m)\u001b[0m\u001b[0;34m:\u001b[0m\u001b[0;34m\u001b[0m\u001b[0;34m\u001b[0m\u001b[0m\n",
            "\u001b[0;32m/usr/local/lib/python3.10/dist-packages/torch/nn/modules/module.py\u001b[0m in \u001b[0;36m_call_impl\u001b[0;34m(self, *args, **kwargs)\u001b[0m\n\u001b[1;32m   1525\u001b[0m                 \u001b[0;32mor\u001b[0m \u001b[0m_global_backward_pre_hooks\u001b[0m \u001b[0;32mor\u001b[0m \u001b[0m_global_backward_hooks\u001b[0m\u001b[0;34m\u001b[0m\u001b[0;34m\u001b[0m\u001b[0m\n\u001b[1;32m   1526\u001b[0m                 or _global_forward_hooks or _global_forward_pre_hooks):\n\u001b[0;32m-> 1527\u001b[0;31m             \u001b[0;32mreturn\u001b[0m \u001b[0mforward_call\u001b[0m\u001b[0;34m(\u001b[0m\u001b[0;34m*\u001b[0m\u001b[0margs\u001b[0m\u001b[0;34m,\u001b[0m \u001b[0;34m**\u001b[0m\u001b[0mkwargs\u001b[0m\u001b[0;34m)\u001b[0m\u001b[0;34m\u001b[0m\u001b[0;34m\u001b[0m\u001b[0m\n\u001b[0m\u001b[1;32m   1528\u001b[0m \u001b[0;34m\u001b[0m\u001b[0m\n\u001b[1;32m   1529\u001b[0m         \u001b[0;32mtry\u001b[0m\u001b[0;34m:\u001b[0m\u001b[0;34m\u001b[0m\u001b[0;34m\u001b[0m\u001b[0m\n",
            "\u001b[0;32m/usr/local/lib/python3.10/dist-packages/torch/nn/modules/linear.py\u001b[0m in \u001b[0;36mforward\u001b[0;34m(self, input)\u001b[0m\n\u001b[1;32m    112\u001b[0m \u001b[0;34m\u001b[0m\u001b[0m\n\u001b[1;32m    113\u001b[0m     \u001b[0;32mdef\u001b[0m \u001b[0mforward\u001b[0m\u001b[0;34m(\u001b[0m\u001b[0mself\u001b[0m\u001b[0;34m,\u001b[0m \u001b[0minput\u001b[0m\u001b[0;34m:\u001b[0m \u001b[0mTensor\u001b[0m\u001b[0;34m)\u001b[0m \u001b[0;34m->\u001b[0m \u001b[0mTensor\u001b[0m\u001b[0;34m:\u001b[0m\u001b[0;34m\u001b[0m\u001b[0;34m\u001b[0m\u001b[0m\n\u001b[0;32m--> 114\u001b[0;31m         \u001b[0;32mreturn\u001b[0m \u001b[0mF\u001b[0m\u001b[0;34m.\u001b[0m\u001b[0mlinear\u001b[0m\u001b[0;34m(\u001b[0m\u001b[0minput\u001b[0m\u001b[0;34m,\u001b[0m \u001b[0mself\u001b[0m\u001b[0;34m.\u001b[0m\u001b[0mweight\u001b[0m\u001b[0;34m,\u001b[0m \u001b[0mself\u001b[0m\u001b[0;34m.\u001b[0m\u001b[0mbias\u001b[0m\u001b[0;34m)\u001b[0m\u001b[0;34m\u001b[0m\u001b[0;34m\u001b[0m\u001b[0m\n\u001b[0m\u001b[1;32m    115\u001b[0m \u001b[0;34m\u001b[0m\u001b[0m\n\u001b[1;32m    116\u001b[0m     \u001b[0;32mdef\u001b[0m \u001b[0mextra_repr\u001b[0m\u001b[0;34m(\u001b[0m\u001b[0mself\u001b[0m\u001b[0;34m)\u001b[0m \u001b[0;34m->\u001b[0m \u001b[0mstr\u001b[0m\u001b[0;34m:\u001b[0m\u001b[0;34m\u001b[0m\u001b[0;34m\u001b[0m\u001b[0m\n",
            "\u001b[0;31mRuntimeError\u001b[0m: mat1 and mat2 shapes cannot be multiplied (3584x28 and 784x10)"
          ]
        }
      ]
    },
    {
      "cell_type": "code",
      "source": [
        "class MnistModel(nn.Module):\n",
        "  def __init__(self):\n",
        "    super().__init__()\n",
        "    self.linear = nn.Linear(input_size,num_classes)\n",
        "  def forward(self, xb):\n",
        "    xb = xb.reshape(-1,784)\n",
        "    out = self.linear(xb)\n",
        "    return out\n",
        "\n",
        "model = MnistModel()"
      ],
      "metadata": {
        "id": "fQqsmGo95Oyt"
      },
      "execution_count": 54,
      "outputs": []
    },
    {
      "cell_type": "code",
      "source": [
        "model.linear"
      ],
      "metadata": {
        "colab": {
          "base_uri": "https://localhost:8080/"
        },
        "id": "W3Pdv2qZ6Kfu",
        "outputId": "cb39592e-a0d7-4e93-d52f-7765b1116ab0"
      },
      "execution_count": 55,
      "outputs": [
        {
          "output_type": "execute_result",
          "data": {
            "text/plain": [
              "Linear(in_features=784, out_features=10, bias=True)"
            ]
          },
          "metadata": {},
          "execution_count": 55
        }
      ]
    },
    {
      "cell_type": "code",
      "source": [
        "print(model.linear.weight.shape, model.linear.bias.shape)\n",
        "list(model.parameters())"
      ],
      "metadata": {
        "colab": {
          "base_uri": "https://localhost:8080/"
        },
        "id": "js7oGB346fv7",
        "outputId": "39290503-eb28-4b7c-fbd7-2c60c6a1ff99"
      },
      "execution_count": 56,
      "outputs": [
        {
          "output_type": "stream",
          "name": "stdout",
          "text": [
            "torch.Size([10, 784]) torch.Size([10])\n"
          ]
        },
        {
          "output_type": "execute_result",
          "data": {
            "text/plain": [
              "[Parameter containing:\n",
              " tensor([[ 0.0299,  0.0346, -0.0164,  ..., -0.0260, -0.0342, -0.0311],\n",
              "         [ 0.0223, -0.0085,  0.0115,  ..., -0.0285,  0.0291,  0.0124],\n",
              "         [-0.0099, -0.0148, -0.0046,  ..., -0.0326,  0.0352,  0.0163],\n",
              "         ...,\n",
              "         [-0.0201, -0.0292, -0.0144,  ..., -0.0307, -0.0246, -0.0313],\n",
              "         [ 0.0306, -0.0090,  0.0229,  ..., -0.0117, -0.0344, -0.0259],\n",
              "         [ 0.0069,  0.0195,  0.0101,  ...,  0.0332,  0.0084, -0.0192]],\n",
              "        requires_grad=True),\n",
              " Parameter containing:\n",
              " tensor([-0.0171, -0.0027,  0.0044, -0.0097,  0.0161, -0.0304, -0.0308, -0.0345,\n",
              "         -0.0264, -0.0247], requires_grad=True)]"
            ]
          },
          "metadata": {},
          "execution_count": 56
        }
      ]
    },
    {
      "cell_type": "code",
      "source": [
        "for images, labels in train_loader:\n",
        "    print(images.shape)\n",
        "    outputs = model(images)\n",
        "    break\n",
        "print('outputs.shape : ', outputs.shape)\n",
        "print('Sample outputs :\\n', outputs[:2].data)"
      ],
      "metadata": {
        "colab": {
          "base_uri": "https://localhost:8080/"
        },
        "id": "YAPiHEUI6rCG",
        "outputId": "dd474d83-db00-48f7-9559-a34ff295184c"
      },
      "execution_count": 58,
      "outputs": [
        {
          "output_type": "stream",
          "name": "stdout",
          "text": [
            "torch.Size([128, 1, 28, 28])\n",
            "outputs.shape :  torch.Size([128, 10])\n",
            "Sample outputs :\n",
            " tensor([[-0.1963, -0.0198,  0.0706,  0.1305,  0.0565, -0.1633, -0.3369, -0.0719,\n",
            "         -0.1339, -0.0293],\n",
            "        [-0.0851,  0.0196, -0.0527,  0.1002,  0.0577, -0.0586, -0.2323,  0.1088,\n",
            "          0.0510,  0.0414]])\n"
          ]
        }
      ]
    },
    {
      "cell_type": "code",
      "source": [
        "import torch.nn.functional as F"
      ],
      "metadata": {
        "id": "kFRYL8jd6yCc"
      },
      "execution_count": 59,
      "outputs": []
    },
    {
      "cell_type": "code",
      "source": [
        "outputs[:2]"
      ],
      "metadata": {
        "colab": {
          "base_uri": "https://localhost:8080/"
        },
        "id": "1mBd3Jq86_GM",
        "outputId": "24f06b4d-3871-488d-cd52-a8657bc93310"
      },
      "execution_count": 61,
      "outputs": [
        {
          "output_type": "execute_result",
          "data": {
            "text/plain": [
              "tensor([[-0.1963, -0.0198,  0.0706,  0.1305,  0.0565, -0.1633, -0.3369, -0.0719,\n",
              "         -0.1339, -0.0293],\n",
              "        [-0.0851,  0.0196, -0.0527,  0.1002,  0.0577, -0.0586, -0.2323,  0.1088,\n",
              "          0.0510,  0.0414]], grad_fn=<SliceBackward0>)"
            ]
          },
          "metadata": {},
          "execution_count": 61
        }
      ]
    },
    {
      "cell_type": "code",
      "source": [
        "props = F.softmax(outputs, dim=1)\n",
        "print(\"Sample Probabilities :\\n \", props[:2].data)\n",
        "print(\"Sum : \",torch.sum(probs[0]).item())"
      ],
      "metadata": {
        "colab": {
          "base_uri": "https://localhost:8080/"
        },
        "id": "3vaSvv_e7FO7",
        "outputId": "21cd1f52-3f13-461d-e477-667316cc0135"
      },
      "execution_count": 65,
      "outputs": [
        {
          "output_type": "stream",
          "name": "stdout",
          "text": [
            "Sample Probabilities :\n",
            "  tensor([[0.0873, 0.1042, 0.1140, 0.1211, 0.1124, 0.0902, 0.0759, 0.0989, 0.0929,\n",
            "         0.1032],\n",
            "        [0.0919, 0.1020, 0.0949, 0.1106, 0.1060, 0.0943, 0.0793, 0.1115, 0.1053,\n",
            "         0.1043]])\n",
            "Sum :  1.0000001192092896\n"
          ]
        }
      ]
    },
    {
      "cell_type": "code",
      "source": [
        "max_probs, preds = torch.max(props, dim=1)\n",
        "print(preds)\n",
        "print(max_probs)"
      ],
      "metadata": {
        "colab": {
          "base_uri": "https://localhost:8080/"
        },
        "id": "81OBslJZ7k_q",
        "outputId": "c3ca46ab-88cd-40c6-9cbd-43eab38e41e4"
      },
      "execution_count": 67,
      "outputs": [
        {
          "output_type": "stream",
          "name": "stdout",
          "text": [
            "tensor([3, 7, 3, 4, 8, 0, 8, 7, 4, 3, 0, 4, 3, 7, 7, 9, 7, 8, 7, 4, 3, 4, 3, 4,\n",
            "        5, 4, 8, 0, 5, 3, 4, 1, 4, 4, 5, 3, 4, 3, 5, 4, 4, 8, 7, 3, 4, 7, 8, 3,\n",
            "        3, 5, 3, 3, 0, 4, 3, 5, 2, 4, 3, 3, 3, 0, 3, 8, 7, 0, 2, 3, 4, 0, 8, 3,\n",
            "        3, 4, 8, 0, 5, 4, 5, 9, 5, 5, 4, 1, 0, 5, 5, 0, 5, 5, 3, 4, 5, 3, 4, 8,\n",
            "        4, 4, 2, 4, 3, 3, 3, 7, 3, 2, 4, 3, 7, 8, 4, 3, 7, 4, 4, 3, 3, 7, 7, 4,\n",
            "        4, 3, 3, 3, 7, 3, 3, 3])\n",
            "tensor([0.1211, 0.1115, 0.1381, 0.1227, 0.1288, 0.1178, 0.1179, 0.1276, 0.1259,\n",
            "        0.1217, 0.1115, 0.1275, 0.1375, 0.1164, 0.1231, 0.1158, 0.1198, 0.1245,\n",
            "        0.1200, 0.1270, 0.1179, 0.1128, 0.1265, 0.1245, 0.1251, 0.1193, 0.1242,\n",
            "        0.1216, 0.1266, 0.1275, 0.1297, 0.1345, 0.1385, 0.1263, 0.1231, 0.1264,\n",
            "        0.1113, 0.1224, 0.1355, 0.1270, 0.1384, 0.1240, 0.1267, 0.1217, 0.1323,\n",
            "        0.1347, 0.1172, 0.1214, 0.1267, 0.1297, 0.1436, 0.1225, 0.1277, 0.1500,\n",
            "        0.1142, 0.1309, 0.1299, 0.1557, 0.1417, 0.1264, 0.1297, 0.1294, 0.1308,\n",
            "        0.1304, 0.1355, 0.1205, 0.1258, 0.1420, 0.1341, 0.1255, 0.1261, 0.1301,\n",
            "        0.1103, 0.1612, 0.1220, 0.1284, 0.1234, 0.1484, 0.1658, 0.1149, 0.1129,\n",
            "        0.1261, 0.1314, 0.1235, 0.1337, 0.1174, 0.1507, 0.1168, 0.1178, 0.1255,\n",
            "        0.1371, 0.1418, 0.1160, 0.1213, 0.1659, 0.1107, 0.1201, 0.1252, 0.1301,\n",
            "        0.1261, 0.1356, 0.1502, 0.1391, 0.1345, 0.1308, 0.1170, 0.1290, 0.1622,\n",
            "        0.1237, 0.1260, 0.1489, 0.1279, 0.1350, 0.1197, 0.1129, 0.1238, 0.1350,\n",
            "        0.1228, 0.1218, 0.1320, 0.1574, 0.1108, 0.1339, 0.1333, 0.1194, 0.1433,\n",
            "        0.1299, 0.1191], grad_fn=<MaxBackward0>)\n"
          ]
        }
      ]
    },
    {
      "cell_type": "code",
      "source": [
        "labels"
      ],
      "metadata": {
        "colab": {
          "base_uri": "https://localhost:8080/"
        },
        "id": "TBUdz7qJ7-EF",
        "outputId": "07d9e100-e7f9-454d-cdea-de7beaec0b14"
      },
      "execution_count": 68,
      "outputs": [
        {
          "output_type": "execute_result",
          "data": {
            "text/plain": [
              "tensor([7, 7, 0, 0, 1, 1, 3, 4, 3, 1, 5, 3, 8, 9, 9, 8, 4, 3, 4, 3, 8, 9, 1, 3,\n",
              "        2, 9, 8, 1, 3, 8, 3, 2, 4, 5, 1, 6, 3, 1, 4, 6, 6, 2, 0, 2, 3, 0, 2, 8,\n",
              "        1, 2, 3, 5, 9, 5, 1, 7, 7, 0, 6, 2, 5, 9, 0, 8, 2, 9, 0, 0, 3, 1, 5, 5,\n",
              "        9, 0, 7, 9, 6, 0, 6, 1, 1, 6, 0, 6, 2, 2, 6, 9, 8, 7, 8, 5, 6, 1, 0, 2,\n",
              "        9, 4, 7, 0, 8, 0, 7, 4, 7, 7, 0, 8, 2, 3, 0, 1, 4, 5, 2, 5, 5, 9, 4, 5,\n",
              "        0, 4, 5, 8, 4, 3, 1, 1])"
            ]
          },
          "metadata": {},
          "execution_count": 68
        }
      ]
    },
    {
      "cell_type": "code",
      "source": [
        "outputs[:2]"
      ],
      "metadata": {
        "colab": {
          "base_uri": "https://localhost:8080/"
        },
        "id": "KA0QsNZq8Oyq",
        "outputId": "7a295756-b197-43c5-bc3e-5cda226c817d"
      },
      "execution_count": 69,
      "outputs": [
        {
          "output_type": "execute_result",
          "data": {
            "text/plain": [
              "tensor([[-0.1963, -0.0198,  0.0706,  0.1305,  0.0565, -0.1633, -0.3369, -0.0719,\n",
              "         -0.1339, -0.0293],\n",
              "        [-0.0851,  0.0196, -0.0527,  0.1002,  0.0577, -0.0586, -0.2323,  0.1088,\n",
              "          0.0510,  0.0414]], grad_fn=<SliceBackward0>)"
            ]
          },
          "metadata": {},
          "execution_count": 69
        }
      ]
    },
    {
      "cell_type": "code",
      "source": [
        "torch.sum(preds == labels)"
      ],
      "metadata": {
        "colab": {
          "base_uri": "https://localhost:8080/"
        },
        "id": "U4-Jhapk8T1P",
        "outputId": "41b5498b-88d7-496f-a36e-19058a3683ef"
      },
      "execution_count": 70,
      "outputs": [
        {
          "output_type": "execute_result",
          "data": {
            "text/plain": [
              "tensor(7)"
            ]
          },
          "metadata": {},
          "execution_count": 70
        }
      ]
    },
    {
      "cell_type": "code",
      "source": [
        "def accuracy(outputs, labels):\n",
        "    _, preds = torch.max(outputs, dim=1)\n",
        "    return torch.tensor(torch.sum(preds == labels).item() / len(preds))"
      ],
      "metadata": {
        "id": "_z9dw6D38Y7L"
      },
      "execution_count": 71,
      "outputs": []
    },
    {
      "cell_type": "code",
      "source": [
        "accuracy(outputs, labels)"
      ],
      "metadata": {
        "colab": {
          "base_uri": "https://localhost:8080/"
        },
        "id": "BNRFzMwl8dGs",
        "outputId": "575317d1-6bcd-4de1-ecc1-d19f012345e2"
      },
      "execution_count": 72,
      "outputs": [
        {
          "output_type": "execute_result",
          "data": {
            "text/plain": [
              "tensor(0.0547)"
            ]
          },
          "metadata": {},
          "execution_count": 72
        }
      ]
    },
    {
      "cell_type": "code",
      "source": [
        "probs"
      ],
      "metadata": {
        "colab": {
          "base_uri": "https://localhost:8080/"
        },
        "id": "xhsEYns98gvj",
        "outputId": "249459c4-ace0-4d62-aa5d-06fa882651ec"
      },
      "execution_count": 73,
      "outputs": [
        {
          "output_type": "execute_result",
          "data": {
            "text/plain": [
              "tensor([[0.0873, 0.1042, 0.1140,  ..., 0.0989, 0.0929, 0.1032],\n",
              "        [0.0919, 0.1020, 0.0949,  ..., 0.1115, 0.1053, 0.1043],\n",
              "        [0.1057, 0.0837, 0.0987,  ..., 0.0726, 0.1039, 0.0949],\n",
              "        ...,\n",
              "        [0.0976, 0.0812, 0.0756,  ..., 0.0844, 0.1155, 0.0823],\n",
              "        [0.1268, 0.0976, 0.0864,  ..., 0.0884, 0.1018, 0.0847],\n",
              "        [0.1112, 0.1036, 0.0909,  ..., 0.0893, 0.1050, 0.0910]],\n",
              "       grad_fn=<SoftmaxBackward0>)"
            ]
          },
          "metadata": {},
          "execution_count": 73
        }
      ]
    },
    {
      "cell_type": "code",
      "source": [
        "outputs"
      ],
      "metadata": {
        "colab": {
          "base_uri": "https://localhost:8080/"
        },
        "id": "OdBr0zcu8jt1",
        "outputId": "15c01ca1-28f0-4fb9-c5d8-0b910117835e"
      },
      "execution_count": 74,
      "outputs": [
        {
          "output_type": "execute_result",
          "data": {
            "text/plain": [
              "tensor([[-0.1963, -0.0198,  0.0706,  ..., -0.0719, -0.1339, -0.0293],\n",
              "        [-0.0851,  0.0196, -0.0527,  ...,  0.1088,  0.0510,  0.0414],\n",
              "        [ 0.0748, -0.1580,  0.0063,  ..., -0.3002,  0.0574, -0.0331],\n",
              "        ...,\n",
              "        [-0.0177, -0.2012, -0.2722,  ..., -0.1628,  0.1512, -0.1881],\n",
              "        [ 0.2250, -0.0371, -0.1595,  ..., -0.1362,  0.0054, -0.1795],\n",
              "        [ 0.0955,  0.0249, -0.1062,  ..., -0.1232,  0.0385, -0.1052]],\n",
              "       grad_fn=<AddmmBackward0>)"
            ]
          },
          "metadata": {},
          "execution_count": 74
        }
      ]
    },
    {
      "cell_type": "code",
      "source": [
        "loss_fn = F.cross_entropy"
      ],
      "metadata": {
        "id": "zpFyq6898rf7"
      },
      "execution_count": 76,
      "outputs": []
    },
    {
      "cell_type": "code",
      "source": [
        "loss = loss_fn(outputs, labels)\n",
        "print(loss)"
      ],
      "metadata": {
        "colab": {
          "base_uri": "https://localhost:8080/"
        },
        "id": "PA8Esaf58vXA",
        "outputId": "c45dbd73-df9f-44ca-804a-8e7d2c2fb0ce"
      },
      "execution_count": 77,
      "outputs": [
        {
          "output_type": "stream",
          "name": "stdout",
          "text": [
            "tensor(2.3130, grad_fn=<NllLossBackward0>)\n"
          ]
        }
      ]
    },
    {
      "cell_type": "code",
      "source": [
        "def fit(epochs, lr, model, train_loader, val_loader, opt_func=torch.optim.SGD):\n",
        "    optimizer = opt_func(model.parameters(), lr)\n",
        "    history = [] # for recording epoch-wise results\n",
        "\n",
        "    for epoch in range(epochs):\n",
        "\n",
        "        # Training Phase\n",
        "        for batch in train_loader:\n",
        "            loss = model.training_step(batch)\n",
        "            loss.backward()\n",
        "            optimizer.step()\n",
        "            optimizer.zero_grad()\n",
        "\n",
        "        # Validation phase\n",
        "        result = evaluate(model, val_loader)\n",
        "        model.epoch_end(epoch, result)\n",
        "        history.append(result)\n",
        "\n",
        "    return history"
      ],
      "metadata": {
        "id": "LNzteGKI87l_"
      },
      "execution_count": 78,
      "outputs": []
    },
    {
      "cell_type": "code",
      "source": [
        "def evaluate(model, val_loader):\n",
        "    outputs = [model.validation_step(batch) for batch in val_loader]\n",
        "    return model.validation_epoch_end(outputs)"
      ],
      "metadata": {
        "id": "0okB6dFr9Iar"
      },
      "execution_count": 79,
      "outputs": []
    },
    {
      "cell_type": "code",
      "source": [
        "class MnistModel(nn.Module):\n",
        "    def __init__(self):\n",
        "        super().__init__()\n",
        "        self.linear = nn.Linear(input_size, num_classes)\n",
        "\n",
        "    def forward(self, xb):\n",
        "        xb = xb.reshape(-1, 784)\n",
        "        out = self.linear(xb)\n",
        "        return out\n",
        "\n",
        "    def training_step(self, batch):\n",
        "        images, labels = batch\n",
        "        out = self(images)                  # Generate predictions\n",
        "        loss = F.cross_entropy(out, labels) # Calculate loss\n",
        "        return loss\n",
        "\n",
        "    def validation_step(self, batch):\n",
        "        images, labels = batch\n",
        "        out = self(images)                    # Generate predictions\n",
        "        loss = F.cross_entropy(out, labels)   # Calculate loss\n",
        "        acc = accuracy(out, labels)           # Calculate accuracy\n",
        "        return {'val_loss': loss, 'val_acc': acc}\n",
        "\n",
        "    def validation_epoch_end(self, outputs):\n",
        "        batch_losses = [x['val_loss'] for x in outputs]\n",
        "        epoch_loss = torch.stack(batch_losses).mean()   # Combine losses\n",
        "        batch_accs = [x['val_acc'] for x in outputs]\n",
        "        epoch_acc = torch.stack(batch_accs).mean()      # Combine accuracies\n",
        "        return {'val_loss': epoch_loss.item(), 'val_acc': epoch_acc.item()}\n",
        "\n",
        "    def epoch_end(self, epoch, result):\n",
        "        print(\"Epoch [{}], val_loss: {:.4f}, val_acc: {:.4f}\".format(epoch, result['val_loss'], result['val_acc']))\n",
        "\n",
        "model = MnistModel()"
      ],
      "metadata": {
        "id": "OMXm-xtm9Ob0"
      },
      "execution_count": 80,
      "outputs": []
    },
    {
      "cell_type": "code",
      "source": [
        "result0 = evaluate(model, val_loader)\n",
        "result0"
      ],
      "metadata": {
        "colab": {
          "base_uri": "https://localhost:8080/"
        },
        "id": "f4sk7qlJ9Yez",
        "outputId": "6b9dfae5-41fd-4905-f9f6-ec298229a6e1"
      },
      "execution_count": 81,
      "outputs": [
        {
          "output_type": "execute_result",
          "data": {
            "text/plain": [
              "{'val_loss': 2.340127944946289, 'val_acc': 0.07505933195352554}"
            ]
          },
          "metadata": {},
          "execution_count": 81
        }
      ]
    },
    {
      "cell_type": "code",
      "source": [
        "history1 = fit(5, 0.001, model, train_loader, val_loader)"
      ],
      "metadata": {
        "colab": {
          "base_uri": "https://localhost:8080/"
        },
        "id": "7F2cnrp_9cpg",
        "outputId": "f6cad3a8-79ef-4e86-edd1-52155dc5ffd1"
      },
      "execution_count": 82,
      "outputs": [
        {
          "output_type": "stream",
          "name": "stdout",
          "text": [
            "Epoch [0], val_loss: 1.9694, val_acc: 0.6251\n",
            "Epoch [1], val_loss: 1.6945, val_acc: 0.7314\n",
            "Epoch [2], val_loss: 1.4892, val_acc: 0.7623\n",
            "Epoch [3], val_loss: 1.3346, val_acc: 0.7847\n",
            "Epoch [4], val_loss: 1.2160, val_acc: 0.7973\n"
          ]
        }
      ]
    },
    {
      "cell_type": "code",
      "source": [
        "history2 = fit(5, 0.001, model, train_loader, val_loader)"
      ],
      "metadata": {
        "colab": {
          "base_uri": "https://localhost:8080/"
        },
        "id": "9Y4l9a8T9tYL",
        "outputId": "4f5d27c9-6d8c-4038-868f-10dd5d420c07"
      },
      "execution_count": 83,
      "outputs": [
        {
          "output_type": "stream",
          "name": "stdout",
          "text": [
            "Epoch [0], val_loss: 1.1232, val_acc: 0.8065\n",
            "Epoch [1], val_loss: 1.0490, val_acc: 0.8149\n",
            "Epoch [2], val_loss: 0.9885, val_acc: 0.8205\n",
            "Epoch [3], val_loss: 0.9382, val_acc: 0.8244\n",
            "Epoch [4], val_loss: 0.8958, val_acc: 0.8288\n"
          ]
        }
      ]
    },
    {
      "cell_type": "code",
      "source": [
        "history3 = fit(5, 0.001, model, train_loader, val_loader)"
      ],
      "metadata": {
        "colab": {
          "base_uri": "https://localhost:8080/"
        },
        "id": "LpBEIM2-97jV",
        "outputId": "f3f62d32-322c-4e27-fd17-36de794b937c"
      },
      "execution_count": 84,
      "outputs": [
        {
          "output_type": "stream",
          "name": "stdout",
          "text": [
            "Epoch [0], val_loss: 0.8595, val_acc: 0.8336\n",
            "Epoch [1], val_loss: 0.8281, val_acc: 0.8364\n",
            "Epoch [2], val_loss: 0.8007, val_acc: 0.8394\n",
            "Epoch [3], val_loss: 0.7764, val_acc: 0.8417\n",
            "Epoch [4], val_loss: 0.7549, val_acc: 0.8457\n"
          ]
        }
      ]
    },
    {
      "cell_type": "code",
      "source": [
        "history4 = fit(5, 0.001, model, train_loader, val_loader)"
      ],
      "metadata": {
        "colab": {
          "base_uri": "https://localhost:8080/"
        },
        "id": "Ao8PBqhR-GpE",
        "outputId": "6de22351-41a6-4277-9813-1e0e26caa368"
      },
      "execution_count": 85,
      "outputs": [
        {
          "output_type": "stream",
          "name": "stdout",
          "text": [
            "Epoch [0], val_loss: 0.7356, val_acc: 0.8479\n",
            "Epoch [1], val_loss: 0.7181, val_acc: 0.8496\n",
            "Epoch [2], val_loss: 0.7023, val_acc: 0.8515\n",
            "Epoch [3], val_loss: 0.6879, val_acc: 0.8530\n",
            "Epoch [4], val_loss: 0.6747, val_acc: 0.8539\n"
          ]
        }
      ]
    },
    {
      "cell_type": "code",
      "source": [
        "history = [result0] + history1 + history2 + history3 + history4\n",
        "accuracies = [result['val_acc'] for result in history]\n",
        "plt.plot(accuracies, '-x')\n",
        "plt.xlabel('epoch')\n",
        "plt.ylabel('accuracy')\n",
        "plt.title('Accuracy vs. No. of epochs');"
      ],
      "metadata": {
        "colab": {
          "base_uri": "https://localhost:8080/",
          "height": 472
        },
        "id": "Kx90Sauu-ReI",
        "outputId": "a7562d33-fdad-4c81-dbea-34333adbf5ea"
      },
      "execution_count": 86,
      "outputs": [
        {
          "output_type": "display_data",
          "data": {
            "text/plain": [
              "<Figure size 640x480 with 1 Axes>"
            ],
            "image/png": "[encoded data removed]"
          },
          "metadata": {}
        }
      ]
    },
    {
      "cell_type": "code",
      "source": [
        "test_dataset = MNIST(root='data/',\n",
        "                     train=False,\n",
        "                     transform=transforms.ToTensor())"
      ],
      "metadata": {
        "id": "y-Shn573-c7m"
      },
      "execution_count": 87,
      "outputs": []
    },
    {
      "cell_type": "code",
      "source": [
        "img, label = test_dataset[0]\n",
        "plt.imshow(img[0], cmap='gray')\n",
        "print('Shape:', img.shape)\n",
        "print('Label:', label)"
      ],
      "metadata": {
        "colab": {
          "base_uri": "https://localhost:8080/",
          "height": 465
        },
        "id": "YN9GUWfp-i9L",
        "outputId": "593c2a64-cbb9-4def-ba71-fe2ddc8c5ab0"
      },
      "execution_count": 88,
      "outputs": [
        {
          "output_type": "stream",
          "name": "stdout",
          "text": [
            "Shape: torch.Size([1, 28, 28])\n",
            "Label: 7\n"
          ]
        },
        {
          "output_type": "display_data",
          "data": {
            "text/plain": [
              "<Figure size 640x480 with 1 Axes>"
            ],
            "image/png": "[encoded data removed]"
          },
          "metadata": {}
        }
      ]
    },
    {
      "cell_type": "code",
      "source": [
        "def predict_image(img, model):\n",
        "    xb = img.unsqueeze(0)\n",
        "    yb = model(xb)\n",
        "    _, preds = torch.max(yb, dim=1)\n",
        "    return preds[0].item()"
      ],
      "metadata": {
        "id": "w1v08rHp-mYZ"
      },
      "execution_count": 89,
      "outputs": []
    },
    {
      "cell_type": "code",
      "source": [
        "img, label = test_dataset[0]\n",
        "plt.imshow(img[0], cmap='gray')\n",
        "print('Label:', label, ', Predicted:', predict_image(img, model))"
      ],
      "metadata": {
        "colab": {
          "base_uri": "https://localhost:8080/",
          "height": 447
        },
        "id": "Pq_zEwer-rYT",
        "outputId": "d887b3b3-39ce-447e-c7f1-476d77b3673b"
      },
      "execution_count": 90,
      "outputs": [
        {
          "output_type": "stream",
          "name": "stdout",
          "text": [
            "Label: 7 , Predicted: 7\n"
          ]
        },
        {
          "output_type": "display_data",
          "data": {
            "text/plain": [
              "<Figure size 640x480 with 1 Axes>"
            ],
            "image/png": "[encoded data removed]"
          },
          "metadata": {}
        }
      ]
    },
    {
      "cell_type": "code",
      "source": [
        "torch.save(model.state_dict(), 'mnist-logistic.pth')"
      ],
      "metadata": {
        "id": "Lt_4ZNU9-vAq"
      },
      "execution_count": 91,
      "outputs": []
    },
    {
      "cell_type": "code",
      "source": [
        "model.state_dict()"
      ],
      "metadata": {
        "colab": {
          "base_uri": "https://localhost:8080/"
        },
        "id": "1nxOfPnT-0Os",
        "outputId": "ff308310-3726-40f2-b11b-76a74a6ea131"
      },
      "execution_count": 92,
      "outputs": [
        {
          "output_type": "execute_result",
          "data": {
            "text/plain": [
              "OrderedDict([('linear.weight',\n",
              "              tensor([[-0.0220, -0.0046, -0.0045,  ..., -0.0263, -0.0304,  0.0327],\n",
              "                      [ 0.0214, -0.0191, -0.0081,  ...,  0.0046,  0.0336, -0.0007],\n",
              "                      [-0.0344,  0.0093,  0.0111,  ..., -0.0341,  0.0027, -0.0173],\n",
              "                      ...,\n",
              "                      [ 0.0347,  0.0287,  0.0071,  ..., -0.0153,  0.0248, -0.0331],\n",
              "                      [ 0.0180,  0.0323, -0.0012,  ...,  0.0252,  0.0322,  0.0094],\n",
              "                      [ 0.0019,  0.0004, -0.0247,  ..., -0.0236, -0.0076,  0.0321]])),\n",
              "             ('linear.bias',\n",
              "              tensor([-0.0275,  0.0979, -0.0134, -0.0430, -0.0071,  0.0227,  0.0063,  0.0132,\n",
              "                      -0.0863,  0.0248]))])"
            ]
          },
          "metadata": {},
          "execution_count": 92
        }
      ]
    },
    {
      "cell_type": "code",
      "source": [
        "model2 = MnistModel()"
      ],
      "metadata": {
        "id": "OYKAOE9S-3q-"
      },
      "execution_count": 93,
      "outputs": []
    },
    {
      "cell_type": "code",
      "source": [
        "model2.state_dict()"
      ],
      "metadata": {
        "colab": {
          "base_uri": "https://localhost:8080/"
        },
        "id": "1khBvh1s-9kZ",
        "outputId": "1b4880fd-b7df-4aaf-f19b-5f718512efdb"
      },
      "execution_count": 94,
      "outputs": [
        {
          "output_type": "execute_result",
          "data": {
            "text/plain": [
              "OrderedDict([('linear.weight',\n",
              "              tensor([[ 0.0323, -0.0281, -0.0340,  ...,  0.0066,  0.0317,  0.0053],\n",
              "                      [-0.0344,  0.0138, -0.0350,  ...,  0.0276, -0.0057, -0.0073],\n",
              "                      [ 0.0357,  0.0163,  0.0339,  ...,  0.0092, -0.0269,  0.0058],\n",
              "                      ...,\n",
              "                      [-0.0181, -0.0285, -0.0076,  ...,  0.0308, -0.0052, -0.0029],\n",
              "                      [ 0.0164,  0.0283,  0.0278,  ...,  0.0115,  0.0318,  0.0034],\n",
              "                      [ 0.0061, -0.0160, -0.0013,  ...,  0.0315, -0.0245, -0.0308]])),\n",
              "             ('linear.bias',\n",
              "              tensor([ 0.0234, -0.0311,  0.0027,  0.0178, -0.0164, -0.0016,  0.0103,  0.0247,\n",
              "                      -0.0234, -0.0141]))])"
            ]
          },
          "metadata": {},
          "execution_count": 94
        }
      ]
    }
  ]
}