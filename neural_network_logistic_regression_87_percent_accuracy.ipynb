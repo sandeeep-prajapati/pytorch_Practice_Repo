{
  "nbformat": 4,
  "nbformat_minor": 0,
  "metadata": {
    "colab": {
      "provenance": [],
      "authorship_tag": "ABX9TyMqua768kdad8flXCnU5iQD",
      "include_colab_link": true
    },
    "kernelspec": {
      "name": "python3",
      "display_name": "Python 3"
    },
    "language_info": {
      "name": "python"
    }
  },
  "cells": [
    {
      "cell_type": "markdown",
      "metadata": {
        "id": "view-in-github",
        "colab_type": "text"
      },
      "source": [
        "<a href=\"https://colab.research.google.com/github/sandeeep-prajapati/pytorch_Practice_Repo/blob/main/neural_network_logistic_regression_87_percent_accuracy.ipynb\" target=\"_parent\"><img src=\"https://colab.research.google.com/assets/colab-badge.svg\" alt=\"Open In Colab\"/></a>"
      ]
    },
    {
      "cell_type": "code",
      "execution_count": 1,
      "metadata": {
        "id": "mSBtiaRxL2lU"
      },
      "outputs": [],
      "source": [
        "import torch\n",
        "import torch.nn as nn\n",
        "import torchvision\n",
        "import torchvision.transforms as transforms"
      ]
    },
    {
      "cell_type": "code",
      "source": [
        "input_size = 784\n",
        "num_classes = 10\n",
        "num_epochs = 10\n",
        "batch_size = 100\n",
        "learning_rate = 0.0007"
      ],
      "metadata": {
        "id": "1oCXSGgkMJ1k"
      },
      "execution_count": 28,
      "outputs": []
    },
    {
      "cell_type": "code",
      "source": [
        "train_data = torchvision.datasets.MNIST(root= './data',\n",
        "                                 train = True,\n",
        "                                 transform = transforms.ToTensor(),\n",
        "                                 download = True)\n",
        "test_dataset = torchvision.datasets.MNIST(root='./data',\n",
        "                                          train = False,\n",
        "                                          transform = transforms.ToTensor())"
      ],
      "metadata": {
        "colab": {
          "base_uri": "https://localhost:8080/"
        },
        "id": "qiluN99LMeJK",
        "outputId": "08b254f0-5c97-4284-bfdf-f8d191119940"
      },
      "execution_count": 5,
      "outputs": [
        {
          "output_type": "stream",
          "name": "stdout",
          "text": [
            "Downloading http://yann.lecun.com/exdb/mnist/train-images-idx3-ubyte.gz\n",
            "Downloading http://yann.lecun.com/exdb/mnist/train-images-idx3-ubyte.gz to ./data/MNIST/raw/train-images-idx3-ubyte.gz\n"
          ]
        },
        {
          "output_type": "stream",
          "name": "stderr",
          "text": [
            "100%|██████████| 9912422/9912422 [00:00<00:00, 269583530.52it/s]"
          ]
        },
        {
          "output_type": "stream",
          "name": "stdout",
          "text": [
            "Extracting ./data/MNIST/raw/train-images-idx3-ubyte.gz to ./data/MNIST/raw\n"
          ]
        },
        {
          "output_type": "stream",
          "name": "stderr",
          "text": [
            "\n"
          ]
        },
        {
          "output_type": "stream",
          "name": "stdout",
          "text": [
            "\n",
            "Downloading http://yann.lecun.com/exdb/mnist/train-labels-idx1-ubyte.gz\n",
            "Downloading http://yann.lecun.com/exdb/mnist/train-labels-idx1-ubyte.gz to ./data/MNIST/raw/train-labels-idx1-ubyte.gz\n"
          ]
        },
        {
          "output_type": "stream",
          "name": "stderr",
          "text": [
            "100%|██████████| 28881/28881 [00:00<00:00, 26391218.70it/s]\n"
          ]
        },
        {
          "output_type": "stream",
          "name": "stdout",
          "text": [
            "Extracting ./data/MNIST/raw/train-labels-idx1-ubyte.gz to ./data/MNIST/raw\n",
            "\n",
            "Downloading http://yann.lecun.com/exdb/mnist/t10k-images-idx3-ubyte.gz\n",
            "Downloading http://yann.lecun.com/exdb/mnist/t10k-images-idx3-ubyte.gz to ./data/MNIST/raw/t10k-images-idx3-ubyte.gz\n"
          ]
        },
        {
          "output_type": "stream",
          "name": "stderr",
          "text": [
            "100%|██████████| 1648877/1648877 [00:00<00:00, 204406555.44it/s]"
          ]
        },
        {
          "output_type": "stream",
          "name": "stdout",
          "text": [
            "Extracting ./data/MNIST/raw/t10k-images-idx3-ubyte.gz to ./data/MNIST/raw\n",
            "\n",
            "Downloading http://yann.lecun.com/exdb/mnist/t10k-labels-idx1-ubyte.gz\n"
          ]
        },
        {
          "output_type": "stream",
          "name": "stderr",
          "text": [
            "\n"
          ]
        },
        {
          "output_type": "stream",
          "name": "stdout",
          "text": [
            "Downloading http://yann.lecun.com/exdb/mnist/t10k-labels-idx1-ubyte.gz to ./data/MNIST/raw/t10k-labels-idx1-ubyte.gz\n"
          ]
        },
        {
          "output_type": "stream",
          "name": "stderr",
          "text": [
            "100%|██████████| 4542/4542 [00:00<00:00, 8214975.75it/s]\n"
          ]
        },
        {
          "output_type": "stream",
          "name": "stdout",
          "text": [
            "Extracting ./data/MNIST/raw/t10k-labels-idx1-ubyte.gz to ./data/MNIST/raw\n",
            "\n"
          ]
        }
      ]
    },
    {
      "cell_type": "code",
      "source": [
        "print('data count', len(train_data.train_data))"
      ],
      "metadata": {
        "colab": {
          "base_uri": "https://localhost:8080/"
        },
        "id": "qIGu1S9QNQAC",
        "outputId": "efa31e44-84e8-4927-faa3-ced748f77a77"
      },
      "execution_count": 6,
      "outputs": [
        {
          "output_type": "stream",
          "name": "stdout",
          "text": [
            "data count 60000\n"
          ]
        },
        {
          "output_type": "stream",
          "name": "stderr",
          "text": [
            "/usr/local/lib/python3.10/dist-packages/torchvision/datasets/mnist.py:75: UserWarning: train_data has been renamed data\n",
            "  warnings.warn(\"train_data has been renamed data\")\n"
          ]
        }
      ]
    },
    {
      "cell_type": "code",
      "source": [
        "train_loader = torch.utils.data.DataLoader(dataset = train_data,\n",
        "                                           batch_size = batch_size,\n",
        "                                           shuffle = True)\n",
        "test_loader = torch.utils.data.DataLoader(dataset = test_dataset,\n",
        "                                          batch_size = batch_size,\n",
        "                                          shuffle = False)"
      ],
      "metadata": {
        "id": "ceGxF59fNt7R"
      },
      "execution_count": 9,
      "outputs": []
    },
    {
      "cell_type": "code",
      "source": [
        "model = nn.Linear(input_size,num_classes)\n",
        "criterion = nn.CrossEntropyLoss()\n",
        "optimizer = torch.optim.SGD(model.parameters(), lr=learning_rate)\n"
      ],
      "metadata": {
        "id": "C6xGc7imObz_"
      },
      "execution_count": 29,
      "outputs": []
    },
    {
      "cell_type": "code",
      "source": [
        "total_step = len(train_loader)\n",
        "for epoch in range(num_epochs):\n",
        "  for i, (images, labels) in enumerate(train_loader):\n",
        "    images = images.reshape(-1,28*28)\n",
        "    output = model(images)\n",
        "    loss = criterion(output,labels)\n",
        "    optimizer.zero_grad()\n",
        "    loss.backward()\n",
        "    optimizer.step()\n",
        "    if (i+1) % 100 == 0:\n",
        "            print ('Epoch [{}/{}], Step [{}/{}], Loss: {:.4f}'\n",
        "                   .format(epoch+1, num_epochs, i+1, total_step, loss.item()))"
      ],
      "metadata": {
        "colab": {
          "base_uri": "https://localhost:8080/"
        },
        "id": "ilIiPIaOO_wK",
        "outputId": "a55128ab-de78-4a21-bbb2-784787637dd0"
      },
      "execution_count": 35,
      "outputs": [
        {
          "output_type": "stream",
          "name": "stdout",
          "text": [
            "Epoch [1/10], Step [100/600], Loss: 0.6062\n",
            "Epoch [1/10], Step [200/600], Loss: 0.6992\n",
            "Epoch [1/10], Step [300/600], Loss: 0.6798\n",
            "Epoch [1/10], Step [400/600], Loss: 0.6094\n",
            "Epoch [1/10], Step [500/600], Loss: 0.7159\n",
            "Epoch [1/10], Step [600/600], Loss: 0.5357\n",
            "Epoch [2/10], Step [100/600], Loss: 0.6837\n",
            "Epoch [2/10], Step [200/600], Loss: 0.7350\n",
            "Epoch [2/10], Step [300/600], Loss: 0.6143\n",
            "Epoch [2/10], Step [400/600], Loss: 0.6849\n",
            "Epoch [2/10], Step [500/600], Loss: 0.6827\n",
            "Epoch [2/10], Step [600/600], Loss: 0.5586\n",
            "Epoch [3/10], Step [100/600], Loss: 0.6278\n",
            "Epoch [3/10], Step [200/600], Loss: 0.5294\n",
            "Epoch [3/10], Step [300/600], Loss: 0.7076\n",
            "Epoch [3/10], Step [400/600], Loss: 0.6376\n",
            "Epoch [3/10], Step [500/600], Loss: 0.6204\n",
            "Epoch [3/10], Step [600/600], Loss: 0.4891\n",
            "Epoch [4/10], Step [100/600], Loss: 0.6197\n",
            "Epoch [4/10], Step [200/600], Loss: 0.4826\n",
            "Epoch [4/10], Step [300/600], Loss: 0.5861\n",
            "Epoch [4/10], Step [400/600], Loss: 0.5823\n",
            "Epoch [4/10], Step [500/600], Loss: 0.6572\n",
            "Epoch [4/10], Step [600/600], Loss: 0.5725\n",
            "Epoch [5/10], Step [100/600], Loss: 0.5680\n",
            "Epoch [5/10], Step [200/600], Loss: 0.7239\n",
            "Epoch [5/10], Step [300/600], Loss: 0.7290\n",
            "Epoch [5/10], Step [400/600], Loss: 0.6576\n",
            "Epoch [5/10], Step [500/600], Loss: 0.6467\n",
            "Epoch [5/10], Step [600/600], Loss: 0.5489\n",
            "Epoch [6/10], Step [100/600], Loss: 0.5852\n",
            "Epoch [6/10], Step [200/600], Loss: 0.4896\n",
            "Epoch [6/10], Step [300/600], Loss: 0.6347\n",
            "Epoch [6/10], Step [400/600], Loss: 0.6371\n",
            "Epoch [6/10], Step [500/600], Loss: 0.5703\n",
            "Epoch [6/10], Step [600/600], Loss: 0.6025\n",
            "Epoch [7/10], Step [100/600], Loss: 0.6902\n",
            "Epoch [7/10], Step [200/600], Loss: 0.6719\n",
            "Epoch [7/10], Step [300/600], Loss: 0.5941\n",
            "Epoch [7/10], Step [400/600], Loss: 0.5541\n",
            "Epoch [7/10], Step [500/600], Loss: 0.6186\n",
            "Epoch [7/10], Step [600/600], Loss: 0.6906\n",
            "Epoch [8/10], Step [100/600], Loss: 0.6991\n",
            "Epoch [8/10], Step [200/600], Loss: 0.6042\n",
            "Epoch [8/10], Step [300/600], Loss: 0.6327\n",
            "Epoch [8/10], Step [400/600], Loss: 0.5988\n",
            "Epoch [8/10], Step [500/600], Loss: 0.7324\n",
            "Epoch [8/10], Step [600/600], Loss: 0.6285\n",
            "Epoch [9/10], Step [100/600], Loss: 0.5734\n",
            "Epoch [9/10], Step [200/600], Loss: 0.5391\n",
            "Epoch [9/10], Step [300/600], Loss: 0.4933\n",
            "Epoch [9/10], Step [400/600], Loss: 0.5823\n",
            "Epoch [9/10], Step [500/600], Loss: 0.5574\n",
            "Epoch [9/10], Step [600/600], Loss: 0.7744\n",
            "Epoch [10/10], Step [100/600], Loss: 0.5947\n",
            "Epoch [10/10], Step [200/600], Loss: 0.6035\n",
            "Epoch [10/10], Step [300/600], Loss: 0.6199\n",
            "Epoch [10/10], Step [400/600], Loss: 0.4884\n",
            "Epoch [10/10], Step [500/600], Loss: 0.5545\n",
            "Epoch [10/10], Step [600/600], Loss: 0.5379\n"
          ]
        }
      ]
    },
    {
      "cell_type": "code",
      "source": [
        "with torch.no_grad():\n",
        "  correct =0\n",
        "  total = 0\n",
        "  for images, labels in test_loader:\n",
        "    images = images.reshape(-1,28*28)\n",
        "    output = model(images)\n",
        "    _,prediction = torch.max(output.data,1)\n",
        "    total += labels.size(0)\n",
        "    correct += (prediction == labels).sum()\n",
        "  print('Accuracy of the model on the 10000 test images: {} %'.format(100 * correct / total))\n",
        "torch.save(model.state_dict(), 'model.ckpt')"
      ],
      "metadata": {
        "colab": {
          "base_uri": "https://localhost:8080/"
        },
        "id": "hUOX-DNxQOAU",
        "outputId": "82b740a4-c2e6-42c6-ac85-a6efbaa05140"
      },
      "execution_count": 36,
      "outputs": [
        {
          "output_type": "stream",
          "name": "stdout",
          "text": [
            "Accuracy of the model on the 10000 test images: 87.5199966430664 %\n"
          ]
        }
      ]
    },
    {
      "cell_type": "code",
      "source": [],
      "metadata": {
        "id": "165UJckiT1VE"
      },
      "execution_count": null,
      "outputs": []
    }
  ]
}