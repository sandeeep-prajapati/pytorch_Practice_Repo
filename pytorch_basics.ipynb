{
  "nbformat": 4,
  "nbformat_minor": 0,
  "metadata": {
    "colab": {
      "provenance": [],
      "authorship_tag": "ABX9TyPzzxW18WPALKttlXVMUF4B",
      "include_colab_link": true
    },
    "kernelspec": {
      "name": "python3",
      "display_name": "Python 3"
    },
    "language_info": {
      "name": "python"
    }
  },
  "cells": [
    {
      "cell_type": "markdown",
      "metadata": {
        "id": "view-in-github",
        "colab_type": "text"
      },
      "source": [
        "<a href=\"https://colab.research.google.com/github/sandeeep-prajapati/pytorch_Practice_Repo/blob/main/pytorch_basics.ipynb\" target=\"_parent\"><img src=\"https://colab.research.google.com/assets/colab-badge.svg\" alt=\"Open In Colab\"/></a>"
      ]
    },
    {
      "cell_type": "code",
      "execution_count": 2,
      "metadata": {
        "id": "cQ2y5C3XxP6z"
      },
      "outputs": [],
      "source": [
        "import torch\n",
        "import torchvision\n",
        "import torch.nn as nn\n",
        "import numpy as np\n",
        "import torchvision.transforms as transforms"
      ]
    },
    {
      "cell_type": "code",
      "source": [
        "x = torch.tensor(1.,requires_grad = True)\n",
        "w = torch.tensor(2., requires_grad=True)\n",
        "b = torch.tensor(3., requires_grad=True)\n",
        "\n",
        "y = w*x +b"
      ],
      "metadata": {
        "id": "TP2uYmNzxi1h"
      },
      "execution_count": 3,
      "outputs": []
    },
    {
      "cell_type": "code",
      "source": [
        "y.backward()"
      ],
      "metadata": {
        "id": "H2LhxmlRyQZR"
      },
      "execution_count": 4,
      "outputs": []
    },
    {
      "cell_type": "code",
      "source": [
        "print(x.grad)\n",
        "print(w.grad)\n",
        "print(b.grad)"
      ],
      "metadata": {
        "colab": {
          "base_uri": "https://localhost:8080/"
        },
        "id": "shto2_lZyVHl",
        "outputId": "8cfbe311-afc2-4f84-d422-27a9e58c470f"
      },
      "execution_count": 5,
      "outputs": [
        {
          "output_type": "stream",
          "name": "stdout",
          "text": [
            "tensor(2.)\n",
            "tensor(1.)\n",
            "tensor(1.)\n"
          ]
        }
      ]
    },
    {
      "cell_type": "code",
      "source": [
        "x = torch.randn(10, 3)\n",
        "y = torch.randn(10,2)\n",
        "\n",
        "linear = nn.Linear(3,2)\n",
        "print('w : ',linear.weight)\n",
        "print('b : ',linear.bias)\n",
        "criterion =nn.MSELoss()\n",
        "optimizer = torch.optim.SGD(linear.parameters(), lr=0.01)\n",
        "pred = linear(x)\n",
        "loss = criterion(pred,y)\n",
        "print('loss : ',loss.item())\n",
        "loss.backward()\n",
        "print ('dL/dw: ', linear.weight.grad)\n",
        "print ('dL/db: ', linear.bias.grad)\n"
      ],
      "metadata": {
        "colab": {
          "base_uri": "https://localhost:8080/"
        },
        "id": "WXSPa6TKye8v",
        "outputId": "af843b2a-e272-472e-d187-7dc25d7fb5b8"
      },
      "execution_count": 7,
      "outputs": [
        {
          "output_type": "stream",
          "name": "stdout",
          "text": [
            "w :  Parameter containing:\n",
            "tensor([[ 0.5670, -0.3022,  0.0080],\n",
            "        [ 0.5159,  0.5352, -0.3159]], requires_grad=True)\n",
            "b :  Parameter containing:\n",
            "tensor([0.5402, 0.2168], requires_grad=True)\n",
            "loss :  1.1957378387451172\n",
            "dL/dw:  tensor([[ 0.5107, -0.0481, -0.0701],\n",
            "        [ 1.0209,  0.2925, -0.2909]])\n",
            "dL/db:  tensor([ 0.6606, -0.3869])\n"
          ]
        }
      ]
    },
    {
      "cell_type": "code",
      "source": [
        "if False :\n",
        "  def closure():\n",
        "    optimizer.zero_grad()\n",
        "    pred = linear(x)\n",
        "    loss = criterion(pred, y)\n",
        "    loss.backward()\n",
        "    return loss\n",
        "  loss_from_step = optimizer.step(closure=closure)\n",
        "  print('loss from step', loss_from_step)\n",
        "else:\n",
        "  linear.weight.data.sub_(0.01 * linear.weight.grad.data)\n",
        "  linear.bias.data.sub_(0.01 * linear.bias.grad.data)\n",
        "\n",
        "pred = linear(x)\n",
        "loss = criterion(pred, y)\n",
        "print('loss after 1 step optimization: ', loss.item())"
      ],
      "metadata": {
        "colab": {
          "base_uri": "https://localhost:8080/"
        },
        "id": "BD1zZa2Pz56v",
        "outputId": "26505350-7cd9-4c0d-b537-193177873130"
      },
      "execution_count": 9,
      "outputs": [
        {
          "output_type": "stream",
          "name": "stdout",
          "text": [
            "loss after 1 step optimization:  1.155016303062439\n"
          ]
        }
      ]
    },
    {
      "cell_type": "code",
      "source": [
        "a = torch.tensor(2)\n",
        "b = torch.tensor(1)\n",
        "print('a : ',a,'b : ',b)\n",
        "print('a-b using sub',a.data.sub(b))\n",
        "print('after sub _ a : ',a,' b : ',b)"
      ],
      "metadata": {
        "colab": {
          "base_uri": "https://localhost:8080/"
        },
        "id": "uOqu6C8k1ixg",
        "outputId": "29471beb-b9df-45a8-c542-50ba34223d43"
      },
      "execution_count": 11,
      "outputs": [
        {
          "output_type": "stream",
          "name": "stdout",
          "text": [
            "a :  tensor(2) b :  tensor(1)\n",
            "a-b using sub tensor(1)\n",
            "after sub _ a :  tensor(2)  b :  tensor(1)\n"
          ]
        }
      ]
    },
    {
      "cell_type": "code",
      "source": [
        "x = np.array([[1,2],[3,4]])\n",
        "y = torch.from_numpy(x)\n",
        "print('y : ',y)\n",
        "z = y.numpy()\n",
        "print('z : ',z)\n",
        "if np.all(x == z):\n",
        "  print('x equals to z !')"
      ],
      "metadata": {
        "colab": {
          "base_uri": "https://localhost:8080/"
        },
        "id": "5cEhp3E_2Trv",
        "outputId": "88a59a0c-87ed-4f3d-e38d-bb65b7cd7feb"
      },
      "execution_count": 12,
      "outputs": [
        {
          "output_type": "stream",
          "name": "stdout",
          "text": [
            "y :  tensor([[1, 2],\n",
            "        [3, 4]])\n",
            "z :  [[1 2]\n",
            " [3 4]]\n",
            "x equals to z !\n"
          ]
        }
      ]
    },
    {
      "cell_type": "code",
      "source": [],
      "metadata": {
        "id": "MNHNm43m3EtE"
      },
      "execution_count": null,
      "outputs": []
    }
  ]
}