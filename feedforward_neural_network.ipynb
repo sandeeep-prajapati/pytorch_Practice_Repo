{
  "nbformat": 4,
  "nbformat_minor": 0,
  "metadata": {
    "colab": {
      "provenance": [],
      "authorship_tag": "ABX9TyOpvwgXp9ulagGbnZ8LK4mt",
      "include_colab_link": true
    },
    "kernelspec": {
      "name": "python3",
      "display_name": "Python 3"
    },
    "language_info": {
      "name": "python"
    }
  },
  "cells": [
    {
      "cell_type": "markdown",
      "metadata": {
        "id": "view-in-github",
        "colab_type": "text"
      },
      "source": [
        "<a href=\"https://colab.research.google.com/github/sandeeep-prajapati/pytorch_Practice_Repo/blob/main/feedforward_neural_network.ipynb\" target=\"_parent\"><img src=\"https://colab.research.google.com/assets/colab-badge.svg\" alt=\"Open In Colab\"/></a>"
      ]
    },
    {
      "cell_type": "code",
      "execution_count": 14,
      "metadata": {
        "id": "mCSrOApZRJ11"
      },
      "outputs": [],
      "source": [
        "import torch\n",
        "import torch.nn as nn\n",
        "import torchvision\n",
        "import torchvision.transforms as transforms"
      ]
    },
    {
      "cell_type": "code",
      "source": [
        "# Hyper-parameters\n",
        "input_size = 784\n",
        "hidden_size = 500\n",
        "num_classes = 10\n",
        "num_epochs = 5\n",
        "batch_size = 100\n",
        "learning_rate = 0.001"
      ],
      "metadata": {
        "id": "LpZXA5sxRnJW"
      },
      "execution_count": 17,
      "outputs": []
    },
    {
      "cell_type": "code",
      "source": [
        "torch.cuda.is_available()"
      ],
      "metadata": {
        "colab": {
          "base_uri": "https://localhost:8080/"
        },
        "id": "R9zG0LwzSiCT",
        "outputId": "5a8ce67c-051d-4f1f-811b-770e672ed366"
      },
      "execution_count": 18,
      "outputs": [
        {
          "output_type": "execute_result",
          "data": {
            "text/plain": [
              "False"
            ]
          },
          "metadata": {},
          "execution_count": 18
        }
      ]
    },
    {
      "cell_type": "code",
      "source": [
        "train_dataset = torchvision.datasets.MNIST(root='./data',\n",
        "                                           train=True,\n",
        "                                           transform=transforms.ToTensor(),\n",
        "                                           download=True)\n",
        "\n",
        "test_dataset = torchvision.datasets.MNIST(root='./data',\n",
        "                                          train=False,\n",
        "                                          transform=transforms.ToTensor())\n",
        "\n",
        "# Data loader\n",
        "train_loader = torch.utils.data.DataLoader(dataset=train_dataset,\n",
        "                                           batch_size=batch_size,\n",
        "                                           shuffle=True)\n",
        "\n",
        "test_loader = torch.utils.data.DataLoader(dataset=test_dataset,\n",
        "                                          batch_size=batch_size,\n",
        "                                          shuffle=False)"
      ],
      "metadata": {
        "colab": {
          "base_uri": "https://localhost:8080/"
        },
        "id": "11_9o710TvDm",
        "outputId": "87a9d142-4627-4508-9563-e9886c0f2b65"
      },
      "execution_count": 20,
      "outputs": [
        {
          "output_type": "stream",
          "name": "stdout",
          "text": [
            "Downloading http://yann.lecun.com/exdb/mnist/train-images-idx3-ubyte.gz\n",
            "Downloading http://yann.lecun.com/exdb/mnist/train-images-idx3-ubyte.gz to ./data/MNIST/raw/train-images-idx3-ubyte.gz\n"
          ]
        },
        {
          "output_type": "stream",
          "name": "stderr",
          "text": [
            "100%|██████████| 9912422/9912422 [00:00<00:00, 412351092.42it/s]"
          ]
        },
        {
          "output_type": "stream",
          "name": "stdout",
          "text": [
            "Extracting ./data/MNIST/raw/train-images-idx3-ubyte.gz to ./data/MNIST/raw\n"
          ]
        },
        {
          "output_type": "stream",
          "name": "stderr",
          "text": [
            "\n"
          ]
        },
        {
          "output_type": "stream",
          "name": "stdout",
          "text": [
            "\n",
            "Downloading http://yann.lecun.com/exdb/mnist/train-labels-idx1-ubyte.gz\n",
            "Downloading http://yann.lecun.com/exdb/mnist/train-labels-idx1-ubyte.gz to ./data/MNIST/raw/train-labels-idx1-ubyte.gz\n"
          ]
        },
        {
          "output_type": "stream",
          "name": "stderr",
          "text": [
            "100%|██████████| 28881/28881 [00:00<00:00, 29409005.54it/s]\n"
          ]
        },
        {
          "output_type": "stream",
          "name": "stdout",
          "text": [
            "Extracting ./data/MNIST/raw/train-labels-idx1-ubyte.gz to ./data/MNIST/raw\n",
            "\n",
            "Downloading http://yann.lecun.com/exdb/mnist/t10k-images-idx3-ubyte.gz\n",
            "Downloading http://yann.lecun.com/exdb/mnist/t10k-images-idx3-ubyte.gz to ./data/MNIST/raw/t10k-images-idx3-ubyte.gz\n"
          ]
        },
        {
          "output_type": "stream",
          "name": "stderr",
          "text": [
            "100%|██████████| 1648877/1648877 [00:00<00:00, 144902183.13it/s]"
          ]
        },
        {
          "output_type": "stream",
          "name": "stdout",
          "text": [
            "Extracting ./data/MNIST/raw/t10k-images-idx3-ubyte.gz to ./data/MNIST/raw\n"
          ]
        },
        {
          "output_type": "stream",
          "name": "stderr",
          "text": [
            "\n"
          ]
        },
        {
          "output_type": "stream",
          "name": "stdout",
          "text": [
            "\n",
            "Downloading http://yann.lecun.com/exdb/mnist/t10k-labels-idx1-ubyte.gz\n",
            "Downloading http://yann.lecun.com/exdb/mnist/t10k-labels-idx1-ubyte.gz to ./data/MNIST/raw/t10k-labels-idx1-ubyte.gz\n"
          ]
        },
        {
          "output_type": "stream",
          "name": "stderr",
          "text": [
            "100%|██████████| 4542/4542 [00:00<00:00, 14642989.06it/s]\n"
          ]
        },
        {
          "output_type": "stream",
          "name": "stdout",
          "text": [
            "Extracting ./data/MNIST/raw/t10k-labels-idx1-ubyte.gz to ./data/MNIST/raw\n",
            "\n"
          ]
        }
      ]
    },
    {
      "cell_type": "code",
      "source": [
        "class NeuralNet(nn.Module):\n",
        "  def __init__(self,input_size,hidden_size,num_classes):\n",
        "    super(NeuralNet, self).__init__()\n",
        "    self.fc1 = nn.Linear(input_size, hidden_size)\n",
        "    self.relu = nn.ReLU()\n",
        "    self.fc2 = nn.Linear(hidden_size, num_classes)\n",
        "  def forward(self,x):\n",
        "    out = self.fc1(x)\n",
        "    out = self.relu(out)\n",
        "    out = self.fc2(out)\n",
        "    return out"
      ],
      "metadata": {
        "id": "SY5yrROuUnGV"
      },
      "execution_count": 21,
      "outputs": []
    },
    {
      "cell_type": "code",
      "source": [
        "model_cpu = NeuralNet(input_size, hidden_size, num_classes)\n",
        "print(list(model_cpu.children())[0].weight)"
      ],
      "metadata": {
        "colab": {
          "base_uri": "https://localhost:8080/"
        },
        "id": "_cuRrcsOWT2-",
        "outputId": "6e5b29f2-3610-495d-b44d-b37462a837bd"
      },
      "execution_count": 22,
      "outputs": [
        {
          "output_type": "stream",
          "name": "stdout",
          "text": [
            "Parameter containing:\n",
            "tensor([[ 0.0146,  0.0007,  0.0172,  ...,  0.0058, -0.0227,  0.0115],\n",
            "        [-0.0144, -0.0344,  0.0196,  ..., -0.0222,  0.0300,  0.0051],\n",
            "        [-0.0241,  0.0057, -0.0353,  ...,  0.0352, -0.0334, -0.0045],\n",
            "        ...,\n",
            "        [-0.0230, -0.0157, -0.0334,  ..., -0.0127,  0.0115, -0.0003],\n",
            "        [ 0.0210, -0.0328,  0.0077,  ...,  0.0189, -0.0326,  0.0028],\n",
            "        [-0.0310, -0.0320,  0.0004,  ...,  0.0179,  0.0064, -0.0170]],\n",
            "       requires_grad=True)\n"
          ]
        }
      ]
    },
    {
      "cell_type": "code",
      "source": [
        "model = model_cpu.to('cpu')\n",
        "print(list(model.children())[0].weight)"
      ],
      "metadata": {
        "colab": {
          "base_uri": "https://localhost:8080/"
        },
        "id": "RUonDFkOWcjI",
        "outputId": "d5a0f99c-7235-4f02-e8e3-600714183236"
      },
      "execution_count": 24,
      "outputs": [
        {
          "output_type": "stream",
          "name": "stdout",
          "text": [
            "Parameter containing:\n",
            "tensor([[ 0.0146,  0.0007,  0.0172,  ...,  0.0058, -0.0227,  0.0115],\n",
            "        [-0.0144, -0.0344,  0.0196,  ..., -0.0222,  0.0300,  0.0051],\n",
            "        [-0.0241,  0.0057, -0.0353,  ...,  0.0352, -0.0334, -0.0045],\n",
            "        ...,\n",
            "        [-0.0230, -0.0157, -0.0334,  ..., -0.0127,  0.0115, -0.0003],\n",
            "        [ 0.0210, -0.0328,  0.0077,  ...,  0.0189, -0.0326,  0.0028],\n",
            "        [-0.0310, -0.0320,  0.0004,  ...,  0.0179,  0.0064, -0.0170]],\n",
            "       requires_grad=True)\n"
          ]
        }
      ]
    },
    {
      "cell_type": "code",
      "source": [
        "criterion = nn.CrossEntropyLoss()\n",
        "optimizer = torch.optim.Adam(model.parameters(), lr = learning_rate)"
      ],
      "metadata": {
        "id": "mjYS40OzWn3R"
      },
      "execution_count": 25,
      "outputs": []
    },
    {
      "cell_type": "code",
      "source": [
        "total_step = len(train_loader)\n",
        "for epoch in range(num_epochs):\n",
        "  for i, (images, labels) in enumerate(train_loader):\n",
        "    images = images.reshape(-1,28*28)\n",
        "    outputs = model(images)\n",
        "    loss = criterion(outputs,labels)\n",
        "    optimizer.zero_grad()\n",
        "    loss.backward()\n",
        "    optimizer.step()\n",
        "    if (i+1) % (total_step/6) == 0:\n",
        "            print ('Epoch [{}/{}], Step [{}/{}], Loss: {:.4f}'\n",
        "                   .format(epoch+1, num_epochs, i+1, total_step, loss.item()))"
      ],
      "metadata": {
        "colab": {
          "base_uri": "https://localhost:8080/"
        },
        "id": "6521i6dZXTYD",
        "outputId": "6f45efaa-f6bb-4f02-dd3d-afbcf5261c59"
      },
      "execution_count": 26,
      "outputs": [
        {
          "output_type": "stream",
          "name": "stdout",
          "text": [
            "Epoch [1/5], Step [100/600], Loss: 0.3729\n",
            "Epoch [1/5], Step [200/600], Loss: 0.2865\n",
            "Epoch [1/5], Step [300/600], Loss: 0.1281\n",
            "Epoch [1/5], Step [400/600], Loss: 0.1543\n",
            "Epoch [1/5], Step [500/600], Loss: 0.1683\n",
            "Epoch [1/5], Step [600/600], Loss: 0.1197\n",
            "Epoch [2/5], Step [100/600], Loss: 0.1451\n",
            "Epoch [2/5], Step [200/600], Loss: 0.1124\n",
            "Epoch [2/5], Step [300/600], Loss: 0.1514\n",
            "Epoch [2/5], Step [400/600], Loss: 0.1474\n",
            "Epoch [2/5], Step [500/600], Loss: 0.0812\n",
            "Epoch [2/5], Step [600/600], Loss: 0.0969\n",
            "Epoch [3/5], Step [100/600], Loss: 0.1004\n",
            "Epoch [3/5], Step [200/600], Loss: 0.0932\n",
            "Epoch [3/5], Step [300/600], Loss: 0.0706\n",
            "Epoch [3/5], Step [400/600], Loss: 0.0976\n",
            "Epoch [3/5], Step [500/600], Loss: 0.0393\n",
            "Epoch [3/5], Step [600/600], Loss: 0.0253\n",
            "Epoch [4/5], Step [100/600], Loss: 0.0207\n",
            "Epoch [4/5], Step [200/600], Loss: 0.0455\n",
            "Epoch [4/5], Step [300/600], Loss: 0.0300\n",
            "Epoch [4/5], Step [400/600], Loss: 0.0526\n",
            "Epoch [4/5], Step [500/600], Loss: 0.0132\n",
            "Epoch [4/5], Step [600/600], Loss: 0.0707\n",
            "Epoch [5/5], Step [100/600], Loss: 0.0522\n",
            "Epoch [5/5], Step [200/600], Loss: 0.0760\n",
            "Epoch [5/5], Step [300/600], Loss: 0.0236\n",
            "Epoch [5/5], Step [400/600], Loss: 0.0177\n",
            "Epoch [5/5], Step [500/600], Loss: 0.0063\n",
            "Epoch [5/5], Step [600/600], Loss: 0.0227\n"
          ]
        }
      ]
    },
    {
      "cell_type": "code",
      "source": [
        "with torch.no_grad():\n",
        "  correct = 0\n",
        "  total = 0\n",
        "  for images, labels in test_loader:\n",
        "    images = images.reshape(-1,28*28)\n",
        "    outputs = model(images)\n",
        "    _, predicted = torch.max(outputs.data,1)\n",
        "    total = total + labels.size(0)\n",
        "    correct = correct + (predicted == labels).sum().item()\n",
        "  print('Accuracy of the network on the 10000 test images: {} %'.format(100 * correct / total))\n",
        "torch.save(model.state_dict(),'model.ckpt')"
      ],
      "metadata": {
        "colab": {
          "base_uri": "https://localhost:8080/"
        },
        "id": "z7jA2dmsYpES",
        "outputId": "2d1579fc-2b43-4bf8-dbc5-7e28af7ebc83"
      },
      "execution_count": 27,
      "outputs": [
        {
          "output_type": "stream",
          "name": "stdout",
          "text": [
            "Accuracy of the network on the 10000 test images: 98.01 %\n"
          ]
        }
      ]
    },
    {
      "cell_type": "code",
      "source": [],
      "metadata": {
        "id": "zgOPvkbOaVAE"
      },
      "execution_count": null,
      "outputs": []
    }
  ]
}