{
  "nbformat": 4,
  "nbformat_minor": 0,
  "metadata": {
    "colab": {
      "provenance": [],
      "authorship_tag": "ABX9TyNclaozu4G9Xk16TGyskMvc",
      "include_colab_link": true
    },
    "kernelspec": {
      "name": "python3",
      "display_name": "Python 3"
    },
    "language_info": {
      "name": "python"
    }
  },
  "cells": [
    {
      "cell_type": "markdown",
      "metadata": {
        "id": "view-in-github",
        "colab_type": "text"
      },
      "source": [
        "<a href=\"https://colab.research.google.com/github/sandeeep-prajapati/pytorch_Practice_Repo/blob/main/short_logistic_regression.ipynb\" target=\"_parent\"><img src=\"https://colab.research.google.com/assets/colab-badge.svg\" alt=\"Open In Colab\"/></a>"
      ]
    },
    {
      "cell_type": "code",
      "execution_count": 1,
      "metadata": {
        "id": "hbr9vb8Lnvam"
      },
      "outputs": [],
      "source": [
        "import torch\n",
        "import torch.nn as nn\n",
        "import torchvision\n",
        "import torchvision.transforms as transforms"
      ]
    },
    {
      "cell_type": "code",
      "source": [
        "input_size = 784\n",
        "numclasses = 10\n",
        "num_epochs = 5\n",
        "batch_size = 1000\n",
        "learning_rate = 0.001"
      ],
      "metadata": {
        "id": "DIEG0svcoOvL"
      },
      "execution_count": 12,
      "outputs": []
    },
    {
      "cell_type": "code",
      "source": [
        "train_dataset = torchvision.datasets.MNIST(root='./data',\n",
        "                                           train=True,\n",
        "                                           transform=transforms.ToTensor(),\n",
        "                                           download=True)\n",
        "\n",
        "test_dataset = torchvision.datasets.MNIST(root='./data',\n",
        "                                          train=False,\n",
        "                                          transform=transforms.ToTensor()\n",
        "                                         )\n",
        "\n",
        "print('data count:', len(train_dataset.train_data))"
      ],
      "metadata": {
        "colab": {
          "base_uri": "https://localhost:8080/"
        },
        "id": "rLFOrf_sol9D",
        "outputId": "97c39d7c-659f-40ff-f7e7-296abc51f9b6"
      },
      "execution_count": 3,
      "outputs": [
        {
          "output_type": "stream",
          "name": "stdout",
          "text": [
            "Downloading http://yann.lecun.com/exdb/mnist/train-images-idx3-ubyte.gz\n",
            "Downloading http://yann.lecun.com/exdb/mnist/train-images-idx3-ubyte.gz to ./data/MNIST/raw/train-images-idx3-ubyte.gz\n"
          ]
        },
        {
          "output_type": "stream",
          "name": "stderr",
          "text": [
            "100%|██████████| 9912422/9912422 [00:00<00:00, 149500754.21it/s]\n"
          ]
        },
        {
          "output_type": "stream",
          "name": "stdout",
          "text": [
            "Extracting ./data/MNIST/raw/train-images-idx3-ubyte.gz to ./data/MNIST/raw\n",
            "\n",
            "Downloading http://yann.lecun.com/exdb/mnist/train-labels-idx1-ubyte.gz\n",
            "Downloading http://yann.lecun.com/exdb/mnist/train-labels-idx1-ubyte.gz to ./data/MNIST/raw/train-labels-idx1-ubyte.gz\n"
          ]
        },
        {
          "output_type": "stream",
          "name": "stderr",
          "text": [
            "100%|██████████| 28881/28881 [00:00<00:00, 84005335.52it/s]\n"
          ]
        },
        {
          "output_type": "stream",
          "name": "stdout",
          "text": [
            "Extracting ./data/MNIST/raw/train-labels-idx1-ubyte.gz to ./data/MNIST/raw\n",
            "\n",
            "Downloading http://yann.lecun.com/exdb/mnist/t10k-images-idx3-ubyte.gz\n",
            "Downloading http://yann.lecun.com/exdb/mnist/t10k-images-idx3-ubyte.gz to ./data/MNIST/raw/t10k-images-idx3-ubyte.gz\n"
          ]
        },
        {
          "output_type": "stream",
          "name": "stderr",
          "text": [
            "100%|██████████| 1648877/1648877 [00:00<00:00, 38433362.40it/s]"
          ]
        },
        {
          "output_type": "stream",
          "name": "stdout",
          "text": [
            "Extracting ./data/MNIST/raw/t10k-images-idx3-ubyte.gz to ./data/MNIST/raw\n"
          ]
        },
        {
          "output_type": "stream",
          "name": "stderr",
          "text": [
            "\n"
          ]
        },
        {
          "output_type": "stream",
          "name": "stdout",
          "text": [
            "\n",
            "Downloading http://yann.lecun.com/exdb/mnist/t10k-labels-idx1-ubyte.gz\n",
            "Downloading http://yann.lecun.com/exdb/mnist/t10k-labels-idx1-ubyte.gz to ./data/MNIST/raw/t10k-labels-idx1-ubyte.gz\n"
          ]
        },
        {
          "output_type": "stream",
          "name": "stderr",
          "text": [
            "100%|██████████| 4542/4542 [00:00<00:00, 13854930.01it/s]\n"
          ]
        },
        {
          "output_type": "stream",
          "name": "stdout",
          "text": [
            "Extracting ./data/MNIST/raw/t10k-labels-idx1-ubyte.gz to ./data/MNIST/raw\n",
            "\n",
            "data count: 60000\n"
          ]
        },
        {
          "output_type": "stream",
          "name": "stderr",
          "text": [
            "/usr/local/lib/python3.10/dist-packages/torchvision/datasets/mnist.py:75: UserWarning: train_data has been renamed data\n",
            "  warnings.warn(\"train_data has been renamed data\")\n"
          ]
        }
      ]
    },
    {
      "cell_type": "code",
      "source": [
        "train_loader = torch.utils.data.DataLoader(dataset = train_dataset,\n",
        "                                           batch_size = batch_size,\n",
        "                                           shuffle = True)\n",
        "test_loader = torch.utils.data.DataLoader(dataset=test_dataset,\n",
        "                                          batch_size=batch_size,\n",
        "                                          shuffle=False)"
      ],
      "metadata": {
        "id": "hCBdEkF1owxT"
      },
      "execution_count": 4,
      "outputs": []
    },
    {
      "cell_type": "code",
      "source": [
        "model = nn.Linear(input_size, numclasses)"
      ],
      "metadata": {
        "id": "DqmyX2fFpizJ"
      },
      "execution_count": 6,
      "outputs": []
    },
    {
      "cell_type": "code",
      "source": [
        "criterion = nn.CrossEntropyLoss()\n",
        "optimizer = torch.optim.SGD(model.parameters(), lr=learning_rate)"
      ],
      "metadata": {
        "id": "52ai-P_Wpobj"
      },
      "execution_count": 7,
      "outputs": []
    },
    {
      "cell_type": "code",
      "source": [
        "total_step = len(train_loader)"
      ],
      "metadata": {
        "id": "gDe2D8VopySe"
      },
      "execution_count": 8,
      "outputs": []
    },
    {
      "cell_type": "code",
      "source": [
        "for epoch in range(num_epochs):\n",
        "  for i, (image,labels) in enumerate(train_loader):\n",
        "    images = image.reshape(-1,28*28)\n",
        "    outputs = model(images)\n",
        "    loss = criterion(outputs,labels)\n",
        "    optimizer.zero_grad()\n",
        "    loss.backward()\n",
        "    optimizer.step()\n",
        "    if (i+1) % 100 == 0:\n",
        "            print ('Epoch [{}/{}], Step [{}/{}], Loss: {:.4f}'\n",
        "                   .format(epoch+1, num_epochs, i+1, total_step, loss.item()))"
      ],
      "metadata": {
        "colab": {
          "base_uri": "https://localhost:8080/"
        },
        "id": "RB5662X5qW3g",
        "outputId": "e76e565c-6aa6-44fb-910b-d52e3ee35ce9"
      },
      "execution_count": 15,
      "outputs": [
        {
          "output_type": "stream",
          "name": "stdout",
          "text": [
            "Epoch [1/5], Step [100/600], Loss: 0.7533\n",
            "Epoch [1/5], Step [200/600], Loss: 0.5874\n",
            "Epoch [1/5], Step [300/600], Loss: 0.6037\n",
            "Epoch [1/5], Step [400/600], Loss: 0.6227\n",
            "Epoch [1/5], Step [500/600], Loss: 0.6542\n",
            "Epoch [1/5], Step [600/600], Loss: 0.5099\n",
            "Epoch [2/5], Step [100/600], Loss: 0.5073\n",
            "Epoch [2/5], Step [200/600], Loss: 0.5376\n",
            "Epoch [2/5], Step [300/600], Loss: 0.6424\n",
            "Epoch [2/5], Step [400/600], Loss: 0.5776\n",
            "Epoch [2/5], Step [500/600], Loss: 0.5203\n",
            "Epoch [2/5], Step [600/600], Loss: 0.5035\n",
            "Epoch [3/5], Step [100/600], Loss: 0.6506\n",
            "Epoch [3/5], Step [200/600], Loss: 0.5185\n",
            "Epoch [3/5], Step [300/600], Loss: 0.5895\n",
            "Epoch [3/5], Step [400/600], Loss: 0.5412\n",
            "Epoch [3/5], Step [500/600], Loss: 0.6211\n",
            "Epoch [3/5], Step [600/600], Loss: 0.4903\n",
            "Epoch [4/5], Step [100/600], Loss: 0.6781\n",
            "Epoch [4/5], Step [200/600], Loss: 0.5011\n",
            "Epoch [4/5], Step [300/600], Loss: 0.5242\n",
            "Epoch [4/5], Step [400/600], Loss: 0.5586\n",
            "Epoch [4/5], Step [500/600], Loss: 0.6472\n",
            "Epoch [4/5], Step [600/600], Loss: 0.5780\n",
            "Epoch [5/5], Step [100/600], Loss: 0.6991\n",
            "Epoch [5/5], Step [200/600], Loss: 0.6891\n",
            "Epoch [5/5], Step [300/600], Loss: 0.4794\n",
            "Epoch [5/5], Step [400/600], Loss: 0.5280\n",
            "Epoch [5/5], Step [500/600], Loss: 0.4558\n",
            "Epoch [5/5], Step [600/600], Loss: 0.7536\n"
          ]
        }
      ]
    },
    {
      "cell_type": "code",
      "source": [
        "with torch.no_grad():\n",
        "  correct =0\n",
        "  total= 0\n",
        "  for images,labels in test_loader:\n",
        "    images = images.reshape(-1,28*28)\n",
        "    outputs = model(images)\n",
        "    _,predicted = torch.max(outputs.data,1)\n",
        "    total = total + labels.size(0)\n",
        "    correct = correct + (predicted == labels).sum()\n",
        "  print('Accuracy of the model on the 10000 test images: {} %'.format(100 * correct / total))"
      ],
      "metadata": {
        "colab": {
          "base_uri": "https://localhost:8080/"
        },
        "id": "ugcMTkWXrTOJ",
        "outputId": "603db13c-11b9-476d-d004-cd56adf14c0c"
      },
      "execution_count": 17,
      "outputs": [
        {
          "output_type": "stream",
          "name": "stdout",
          "text": [
            "Accuracy of the model on the 10000 test images: 87.61000061035156 %\n"
          ]
        }
      ]
    },
    {
      "cell_type": "code",
      "source": [
        "orch.save(model.state_dict(), 'LogisticModel.ckpt')"
      ],
      "metadata": {
        "id": "1VpjcNEFthpb"
      },
      "execution_count": null,
      "outputs": []
    }
  ]
}