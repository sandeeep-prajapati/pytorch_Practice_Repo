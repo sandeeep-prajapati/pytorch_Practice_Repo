{
  "nbformat": 4,
  "nbformat_minor": 0,
  "metadata": {
    "colab": {
      "provenance": [],
      "authorship_tag": "ABX9TyPY2S6G7V9ktVhZ0O90M/Eg",
      "include_colab_link": true
    },
    "kernelspec": {
      "name": "python3",
      "display_name": "Python 3"
    },
    "language_info": {
      "name": "python"
    }
  },
  "cells": [
    {
      "cell_type": "markdown",
      "metadata": {
        "id": "view-in-github",
        "colab_type": "text"
      },
      "source": [
        "<a href=\"https://colab.research.google.com/github/sandeeep-prajapati/pytorch_Practice_Repo/blob/main/besics/linerRegression.ipynb\" target=\"_parent\"><img src=\"https://colab.research.google.com/assets/colab-badge.svg\" alt=\"Open In Colab\"/></a>"
      ]
    },
    {
      "cell_type": "code",
      "execution_count": 1,
      "metadata": {
        "id": "o13s4HK4P0MU"
      },
      "outputs": [],
      "source": [
        "import torch\n",
        "import torch.nn as nn\n",
        "import numpy as np\n",
        "import matplotlib.pyplot as plt"
      ]
    },
    {
      "cell_type": "code",
      "source": [
        "#hyper-parametes\n",
        "input_size = 1\n",
        "output_size = 1\n",
        "num_epochs = 60\n",
        "learning_rate = 0.001"
      ],
      "metadata": {
        "id": "giShydUwQDPL"
      },
      "execution_count": 3,
      "outputs": []
    },
    {
      "cell_type": "code",
      "source": [
        "# Toy dataset\n",
        "x_train = np.array([[3.3], [4.4], [5.5], [6.71], [6.93], [4.168],\n",
        "                    [9.779], [6.182], [7.59], [2.167], [7.042],\n",
        "                    [10.791], [5.313], [7.997], [3.1]], dtype=np.float32)\n",
        "\n",
        "y_train = np.array([[1.7], [2.76], [2.09], [3.19], [1.694], [1.573],\n",
        "                    [3.366], [2.596], [2.53], [1.221], [2.827],\n",
        "                    [3.465], [1.65], [2.904], [1.3]], dtype=np.float32)\n",
        "\n",
        "print(x_train.shape, y_train.shape)"
      ],
      "metadata": {
        "colab": {
          "base_uri": "https://localhost:8080/"
        },
        "id": "k_dH1EeLQP3n",
        "outputId": "111d06ef-0876-418a-9383-ff70d289bfcc"
      },
      "execution_count": 4,
      "outputs": [
        {
          "output_type": "stream",
          "name": "stdout",
          "text": [
            "(15, 1) (15, 1)\n"
          ]
        }
      ]
    },
    {
      "cell_type": "code",
      "source": [
        "# creating model for linear regression\n",
        "model = nn.Linear(input_size, output_size)"
      ],
      "metadata": {
        "id": "dA9M-k7tQZUT"
      },
      "execution_count": 5,
      "outputs": []
    },
    {
      "cell_type": "code",
      "source": [
        "criterion = nn.MSELoss()\n",
        "optimizer = torch.optim.SGD(model.parameters(), lr = learning_rate)"
      ],
      "metadata": {
        "id": "w46G9_lAQiF-"
      },
      "execution_count": 6,
      "outputs": []
    },
    {
      "cell_type": "code",
      "source": [
        "model"
      ],
      "metadata": {
        "colab": {
          "base_uri": "https://localhost:8080/"
        },
        "id": "g-WhklzRQ9xR",
        "outputId": "96d56da7-a262-4487-fb37-1f769635fc75"
      },
      "execution_count": 7,
      "outputs": [
        {
          "output_type": "execute_result",
          "data": {
            "text/plain": [
              "Linear(in_features=1, out_features=1, bias=True)"
            ]
          },
          "metadata": {},
          "execution_count": 7
        }
      ]
    },
    {
      "cell_type": "code",
      "source": [
        "for epoch in range(num_epochs):\n",
        "  inputs = torch.from_numpy(x_train)\n",
        "  targets = torch.from_numpy(y_train)\n",
        "  output = model(inputs)\n",
        "  loss = criterion(output,targets)\n",
        "  optimizer.zero_grad()\n",
        "  loss.backward()\n",
        "  optimizer.step()\n",
        "  if (epoch+1) % 5 == 0:\n",
        "        #torch.Tensor.item() : number\n",
        "        print ('Epoch [{}/{}], Loss: {:.4f}'.format(epoch+1, num_epochs, loss.item()))"
      ],
      "metadata": {
        "colab": {
          "base_uri": "https://localhost:8080/"
        },
        "id": "bC0UYKB2RAL4",
        "outputId": "9e2047e4-a641-4292-bc9a-d6792a566de8"
      },
      "execution_count": 12,
      "outputs": [
        {
          "output_type": "stream",
          "name": "stdout",
          "text": [
            "Epoch [5/60], Loss: 0.1807\n",
            "Epoch [10/60], Loss: 0.1806\n",
            "Epoch [15/60], Loss: 0.1806\n",
            "Epoch [20/60], Loss: 0.1806\n",
            "Epoch [25/60], Loss: 0.1806\n",
            "Epoch [30/60], Loss: 0.1805\n",
            "Epoch [35/60], Loss: 0.1805\n",
            "Epoch [40/60], Loss: 0.1805\n",
            "Epoch [45/60], Loss: 0.1804\n",
            "Epoch [50/60], Loss: 0.1804\n",
            "Epoch [55/60], Loss: 0.1804\n",
            "Epoch [60/60], Loss: 0.1804\n"
          ]
        }
      ]
    },
    {
      "cell_type": "markdown",
      "source": [
        "This code snippet performs the following steps:\n",
        "\n",
        "1. **Model Prediction**:\n",
        "   - `predicted = model(torch.from_numpy(x_train)).detach().numpy()`: This line passes the training data `x_train` through the trained model `model`.\n",
        "   - `torch.from_numpy(x_train)` converts the numpy array `x_train` into a PyTorch tensor.\n",
        "   - `model()` applies the trained model to the input data, resulting in predictions.\n",
        "   - `detach()` is used to detach the tensor from the computational graph, preventing further tracking of gradients. This is typically done when you're only interested in the values and don't need gradients.\n",
        "   - `numpy()` converts the tensor back to a numpy array. This is done because `matplotlib` functions typically expect numpy arrays rather than PyTorch tensors.\n",
        "\n",
        "2. **Plotting**:\n",
        "   - `plt.plot(x_train, y_train, 'ro', label='Original data')`: This line plots the original data points `(x_train, y_train)` on the graph as red circles (`'ro'`), with the label 'Original data'.\n",
        "   - `plt.plot(x_train, predicted, label='fitted line')`: This line plots the predicted values (`predicted`) against the input values (`x_train`) on the graph. This represents the fitted line produced by the model. The `label` parameter is used to specify the label for this line.\n",
        "   \n",
        "3. **Legend and Display**:\n",
        "   - `plt.legend()`: This function adds a legend to the plot, using the labels specified in the `plot` function calls.\n",
        "   - `plt.show()`: This function displays the plot.\n",
        "\n",
        "In summary, the code snippet takes the input data (`x_train`), passes it through a trained model (`model`), and then plots both the original data points and the predicted values on the same graph using `matplotlib`. This allows you to visually inspect how well the model fits the training data."
      ],
      "metadata": {
        "id": "pi5a6ZVqTUU0"
      }
    },
    {
      "cell_type": "code",
      "source": [
        "predicted = model(torch.from_numpy(x_train)).detach().numpy()\n",
        "plt.plot(x_train,y_train,'ro',label = 'Original data')\n",
        "plt.plot(x_train,predicted, label = 'fitted line')\n",
        "plt.legend()\n",
        "plt.show()\n",
        "\n",
        "torch.save(model.state_dict(), 'model.ckpt')"
      ],
      "metadata": {
        "colab": {
          "base_uri": "https://localhost:8080/",
          "height": 430
        },
        "id": "U4PZWqOCRvqS",
        "outputId": "e88ec228-cc02-4693-99ee-4382649762b8"
      },
      "execution_count": 14,
      "outputs": [
        {
          "output_type": "display_data",
          "data": {
            "text/plain": [
              "<Figure size 640x480 with 1 Axes>"
            ],
            "image/png": "[encoded data removed]"
          },
          "metadata": {}
        }
      ]
    },
    {
      "cell_type": "code",
      "source": [],
      "metadata": {
        "id": "46wtg4tAS4vm"
      },
      "execution_count": null,
      "outputs": []
    }
  ]
}