{
  "nbformat": 4,
  "nbformat_minor": 0,
  "metadata": {
    "colab": {
      "provenance": [],
      "authorship_tag": "ABX9TyNIjt00iQwZrhAjXCzf2jkd",
      "include_colab_link": true
    },
    "kernelspec": {
      "name": "python3",
      "display_name": "Python 3"
    },
    "language_info": {
      "name": "python"
    }
  },
  "cells": [
    {
      "cell_type": "markdown",
      "metadata": {
        "id": "view-in-github",
        "colab_type": "text"
      },
      "source": [
        "<a href=\"https://colab.research.google.com/github/sandeeep-prajapati/pytorch_Practice_Repo/blob/main/basics/besicsOfPytorch.ipynb\" target=\"_parent\"><img src=\"https://colab.research.google.com/assets/colab-badge.svg\" alt=\"Open In Colab\"/></a>"
      ]
    },
    {
      "cell_type": "code",
      "execution_count": 21,
      "metadata": {
        "id": "XkMj5DnTFhRk"
      },
      "outputs": [],
      "source": [
        "import torch\n",
        "import torchvision\n",
        "import torch.nn as nn\n",
        "import torchvision.transforms as transforms\n",
        "import numpy as np"
      ]
    },
    {
      "cell_type": "code",
      "source": [
        "x = torch.tensor(1.0,requires_grad = True)\n",
        "w = torch.tensor(2.0,requires_grad = True)\n",
        "b = torch.tensor(3.0,requires_grad = True)"
      ],
      "metadata": {
        "id": "MMl3s5btGUUB"
      },
      "execution_count": 2,
      "outputs": []
    },
    {
      "cell_type": "code",
      "source": [
        "y = w*x+b"
      ],
      "metadata": {
        "id": "KjJ1ZQP9GwUl"
      },
      "execution_count": 3,
      "outputs": []
    },
    {
      "cell_type": "code",
      "source": [
        "y.backward()"
      ],
      "metadata": {
        "id": "rTf5PSb4GzXg"
      },
      "execution_count": 4,
      "outputs": []
    },
    {
      "cell_type": "code",
      "source": [
        "print(x.grad)\n",
        "print(w.grad)\n",
        "print(b.grad)"
      ],
      "metadata": {
        "colab": {
          "base_uri": "https://localhost:8080/"
        },
        "id": "3mLPC1ZIG2rc",
        "outputId": "bde25d4e-21b6-41ef-b4b1-1ff501f967e1"
      },
      "execution_count": 5,
      "outputs": [
        {
          "output_type": "stream",
          "name": "stdout",
          "text": [
            "tensor(2.)\n",
            "tensor(1.)\n",
            "tensor(1.)\n"
          ]
        }
      ]
    },
    {
      "cell_type": "code",
      "source": [
        "x = torch.randn(10,3)\n",
        "y = torch.randn(10,2)\n",
        "linear = nn.Linear(3,2)\n",
        "print('W : ',linear.weight)\n",
        "print('B : ',linear.bias)"
      ],
      "metadata": {
        "colab": {
          "base_uri": "https://localhost:8080/"
        },
        "id": "g5IPpYIeG-CM",
        "outputId": "e283242e-39d6-4c89-c1d1-434751a02721"
      },
      "execution_count": 7,
      "outputs": [
        {
          "output_type": "stream",
          "name": "stdout",
          "text": [
            "W :  Parameter containing:\n",
            "tensor([[ 0.1232, -0.4191,  0.3570],\n",
            "        [-0.4218,  0.1456,  0.3915]], requires_grad=True)\n",
            "B :  Parameter containing:\n",
            "tensor([-0.2203,  0.3442], requires_grad=True)\n"
          ]
        }
      ]
    },
    {
      "cell_type": "code",
      "source": [
        "criterion = nn.MSELoss()\n",
        "pred = linear(x)\n",
        "loss = criterion(pred,y)\n",
        "loss.backward()\n",
        "optimizer = torch.optim.SGD(linear.parameters(),lr = 0.001)"
      ],
      "metadata": {
        "id": "uFar41ZsHkPx"
      },
      "execution_count": 16,
      "outputs": []
    },
    {
      "cell_type": "code",
      "source": [
        "print('loss : ',loss.item())"
      ],
      "metadata": {
        "colab": {
          "base_uri": "https://localhost:8080/"
        },
        "id": "T26DaEV_H5A9",
        "outputId": "5872b8d8-6628-4850-f286-47a490d5b796"
      },
      "execution_count": 17,
      "outputs": [
        {
          "output_type": "stream",
          "name": "stdout",
          "text": [
            "loss :  1.6957963705062866\n"
          ]
        }
      ]
    },
    {
      "cell_type": "code",
      "source": [
        "print('dL/dw : ',linear.weight.grad)\n",
        "print('dL/dw : ', linear.bias.grad)"
      ],
      "metadata": {
        "colab": {
          "base_uri": "https://localhost:8080/"
        },
        "id": "ym4DyFqHJMsY",
        "outputId": "ef22c938-d280-4c61-cdee-6267433612a1"
      },
      "execution_count": 18,
      "outputs": [
        {
          "output_type": "stream",
          "name": "stdout",
          "text": [
            "dL/dw :  tensor([[ 0.5561, -0.3657,  0.7030],\n",
            "        [-1.8126,  0.8149,  1.6457]])\n",
            "dL/dw :  tensor([0.4764, 1.2379])\n"
          ]
        }
      ]
    },
    {
      "cell_type": "code",
      "source": [
        "\n",
        "optimizer.step()"
      ],
      "metadata": {
        "id": "Hi7WOGOGJhHU"
      },
      "execution_count": 19,
      "outputs": []
    },
    {
      "cell_type": "code",
      "source": [
        "pred = linear(x)\n",
        "loss = criterion(pred, y)\n",
        "print('loss after 1 step optimization: ', loss.item())"
      ],
      "metadata": {
        "colab": {
          "base_uri": "https://localhost:8080/"
        },
        "id": "6yeg2ymkJkwe",
        "outputId": "c1c86580-e92b-43d2-8a47-9c635a55ca79"
      },
      "execution_count": 20,
      "outputs": [
        {
          "output_type": "stream",
          "name": "stdout",
          "text": [
            "loss after 1 step optimization:  1.6911262273788452\n"
          ]
        }
      ]
    },
    {
      "cell_type": "code",
      "source": [
        "x = np.array([[1,2],[3,4]])\n",
        "y = torch.from_numpy(x)\n",
        "z = y.numpy()"
      ],
      "metadata": {
        "id": "DJdsAppUJqCY"
      },
      "execution_count": 22,
      "outputs": []
    },
    {
      "cell_type": "code",
      "source": [
        "print(z,y,x)"
      ],
      "metadata": {
        "colab": {
          "base_uri": "https://localhost:8080/"
        },
        "id": "w6uZqqknKFdy",
        "outputId": "1ea2609f-5434-4b15-ab00-0f233ff91499"
      },
      "execution_count": 23,
      "outputs": [
        {
          "output_type": "stream",
          "name": "stdout",
          "text": [
            "[[1 2]\n",
            " [3 4]] tensor([[1, 2],\n",
            "        [3, 4]]) [[1 2]\n",
            " [3 4]]\n"
          ]
        }
      ]
    },
    {
      "cell_type": "code",
      "source": [
        "train_dataset = torchvision.datasets.CIFAR10(root = './data',\n",
        "                                            train = True,\n",
        "                                            transform = transforms.ToTensor(),\n",
        "                                            download = True)\n",
        "image,label = train_dataset[0]\n",
        "print(image.size())\n",
        "print(label)"
      ],
      "metadata": {
        "colab": {
          "base_uri": "https://localhost:8080/"
        },
        "id": "4q0iCBigKK0m",
        "outputId": "e4fedc80-720b-4331-967c-71fb9b283d4d"
      },
      "execution_count": 27,
      "outputs": [
        {
          "output_type": "stream",
          "name": "stdout",
          "text": [
            "Files already downloaded and verified\n",
            "torch.Size([3, 32, 32])\n",
            "6\n"
          ]
        }
      ]
    },
    {
      "cell_type": "code",
      "source": [
        "train_loader = torch.utils.data.DataLoader(dataset = train_dataset,\n",
        "                                           batch_size = 64,\n",
        "                                           shuffle = True)\n",
        "\n"
      ],
      "metadata": {
        "id": "uxjWmdyPK19v"
      },
      "execution_count": 28,
      "outputs": []
    },
    {
      "cell_type": "code",
      "source": [
        "for images, labels in train_loader:\n",
        "  print(images)\n",
        "  print(label)\n",
        "  break"
      ],
      "metadata": {
        "colab": {
          "base_uri": "https://localhost:8080/"
        },
        "id": "VL8rjbFdLh4U",
        "outputId": "ade3f5f1-f5c0-4800-acb4-02c692ae3bc3"
      },
      "execution_count": 30,
      "outputs": [
        {
          "output_type": "stream",
          "name": "stdout",
          "text": [
            "tensor([[[[0.2000, 0.2196, 0.2157,  ..., 0.2549, 0.2549, 0.2431],\n",
            "          [0.2549, 0.2196, 0.2314,  ..., 0.2353, 0.2392, 0.2471],\n",
            "          [0.2431, 0.2118, 0.2549,  ..., 0.2314, 0.2314, 0.2431],\n",
            "          ...,\n",
            "          [0.1804, 0.1529, 0.1608,  ..., 0.1725, 0.1843, 0.1882],\n",
            "          [0.1765, 0.1922, 0.1843,  ..., 0.1843, 0.1961, 0.2157],\n",
            "          [0.1765, 0.1647, 0.1647,  ..., 0.1922, 0.1882, 0.1961]],\n",
            "\n",
            "         [[0.2941, 0.3137, 0.3098,  ..., 0.3647, 0.3647, 0.3529],\n",
            "          [0.3451, 0.3059, 0.3216,  ..., 0.3451, 0.3451, 0.3529],\n",
            "          [0.3333, 0.3020, 0.3490,  ..., 0.3412, 0.3373, 0.3490],\n",
            "          ...,\n",
            "          [0.2667, 0.2353, 0.2431,  ..., 0.2549, 0.2745, 0.2667],\n",
            "          [0.2745, 0.2902, 0.2784,  ..., 0.2627, 0.2745, 0.2824],\n",
            "          [0.2863, 0.2706, 0.2706,  ..., 0.2627, 0.2588, 0.2627]],\n",
            "\n",
            "         [[0.1059, 0.1294, 0.1333,  ..., 0.1608, 0.1608, 0.1451],\n",
            "          [0.1804, 0.1333, 0.1412,  ..., 0.1451, 0.1412, 0.1333],\n",
            "          [0.1608, 0.1216, 0.1608,  ..., 0.1373, 0.1255, 0.1333],\n",
            "          ...,\n",
            "          [0.0941, 0.0824, 0.0902,  ..., 0.0980, 0.1098, 0.1137],\n",
            "          [0.0824, 0.1020, 0.0980,  ..., 0.1176, 0.1216, 0.1412],\n",
            "          [0.0902, 0.0706, 0.0824,  ..., 0.1294, 0.1098, 0.1137]]],\n",
            "\n",
            "\n",
            "        [[[0.5255, 0.5059, 0.4980,  ..., 0.4471, 0.4588, 0.4667],\n",
            "          [0.4549, 0.4431, 0.4549,  ..., 0.4392, 0.4588, 0.4667],\n",
            "          [0.4431, 0.4235, 0.4392,  ..., 0.4510, 0.4784, 0.4824],\n",
            "          ...,\n",
            "          [0.6510, 0.6667, 0.5098,  ..., 0.6549, 0.7098, 0.6706],\n",
            "          [0.6941, 0.6549, 0.5569,  ..., 0.6549, 0.6078, 0.7216],\n",
            "          [0.6510, 0.6000, 0.6314,  ..., 0.6471, 0.5059, 0.6431]],\n",
            "\n",
            "         [[0.4549, 0.4431, 0.4392,  ..., 0.4039, 0.4196, 0.4275],\n",
            "          [0.3922, 0.3843, 0.3961,  ..., 0.3961, 0.4118, 0.4157],\n",
            "          [0.3843, 0.3647, 0.3804,  ..., 0.4118, 0.4314, 0.4275],\n",
            "          ...,\n",
            "          [0.5725, 0.5922, 0.4353,  ..., 0.5843, 0.6784, 0.6118],\n",
            "          [0.5922, 0.5882, 0.4902,  ..., 0.5961, 0.5843, 0.6667],\n",
            "          [0.5333, 0.5569, 0.5961,  ..., 0.5882, 0.4863, 0.5961]],\n",
            "\n",
            "         [[0.2824, 0.2745, 0.2706,  ..., 0.2275, 0.2314, 0.2314],\n",
            "          [0.2235, 0.2196, 0.2392,  ..., 0.2157, 0.2235, 0.2275],\n",
            "          [0.2118, 0.2000, 0.2196,  ..., 0.2235, 0.2392, 0.2431],\n",
            "          ...,\n",
            "          [0.3608, 0.3608, 0.2784,  ..., 0.3569, 0.4353, 0.3922],\n",
            "          [0.3608, 0.3843, 0.3176,  ..., 0.3608, 0.3569, 0.4510],\n",
            "          [0.3294, 0.3412, 0.3804,  ..., 0.3765, 0.3176, 0.4157]]],\n",
            "\n",
            "\n",
            "        [[[0.1490, 0.2118, 0.2706,  ..., 0.2392, 0.1922, 0.1490],\n",
            "          [0.2353, 0.2392, 0.2078,  ..., 0.2235, 0.1843, 0.1490],\n",
            "          [0.2510, 0.2353, 0.1686,  ..., 0.2078, 0.2000, 0.1843],\n",
            "          ...,\n",
            "          [0.5725, 0.5882, 0.5882,  ..., 0.6431, 0.6275, 0.5451],\n",
            "          [0.5843, 0.5961, 0.5922,  ..., 0.6078, 0.6078, 0.5294],\n",
            "          [0.5647, 0.5882, 0.6000,  ..., 0.5961, 0.6000, 0.5255]],\n",
            "\n",
            "         [[0.2275, 0.2941, 0.3608,  ..., 0.3882, 0.3216, 0.2627],\n",
            "          [0.3608, 0.3569, 0.3098,  ..., 0.3647, 0.3059, 0.2588],\n",
            "          [0.3608, 0.3216, 0.2235,  ..., 0.3686, 0.3490, 0.3059],\n",
            "          ...,\n",
            "          [0.5686, 0.5882, 0.5961,  ..., 0.6510, 0.6353, 0.5529],\n",
            "          [0.5725, 0.5843, 0.5804,  ..., 0.6157, 0.6118, 0.5373],\n",
            "          [0.5725, 0.5804, 0.5804,  ..., 0.5961, 0.6039, 0.5294]],\n",
            "\n",
            "         [[0.1216, 0.1725, 0.2196,  ..., 0.2000, 0.1725, 0.1490],\n",
            "          [0.1686, 0.2039, 0.2078,  ..., 0.1843, 0.1608, 0.1412],\n",
            "          [0.1529, 0.1686, 0.1529,  ..., 0.1725, 0.1725, 0.1608],\n",
            "          ...,\n",
            "          [0.4863, 0.5059, 0.5059,  ..., 0.5961, 0.5804, 0.5059],\n",
            "          [0.4863, 0.5020, 0.4980,  ..., 0.5569, 0.5569, 0.4902],\n",
            "          [0.4549, 0.4784, 0.4902,  ..., 0.5255, 0.5373, 0.4784]]],\n",
            "\n",
            "\n",
            "        ...,\n",
            "\n",
            "\n",
            "        [[[0.2588, 0.2431, 0.2431,  ..., 0.2784, 0.2627, 0.2549],\n",
            "          [0.2588, 0.2392, 0.2392,  ..., 0.2353, 0.2549, 0.2588],\n",
            "          [0.2588, 0.2471, 0.2471,  ..., 0.2039, 0.2667, 0.2510],\n",
            "          ...,\n",
            "          [0.3059, 0.2353, 0.2039,  ..., 0.2471, 0.2392, 0.2431],\n",
            "          [0.1490, 0.1216, 0.1961,  ..., 0.2392, 0.2431, 0.2471],\n",
            "          [0.1373, 0.1098, 0.1373,  ..., 0.2392, 0.2431, 0.2392]],\n",
            "\n",
            "         [[0.2314, 0.2314, 0.2314,  ..., 0.3255, 0.2471, 0.2431],\n",
            "          [0.2314, 0.2275, 0.2275,  ..., 0.3294, 0.2392, 0.2431],\n",
            "          [0.2353, 0.2314, 0.2353,  ..., 0.2902, 0.2392, 0.2392],\n",
            "          ...,\n",
            "          [0.3176, 0.2275, 0.1765,  ..., 0.2196, 0.2118, 0.2196],\n",
            "          [0.1451, 0.1098, 0.1882,  ..., 0.2118, 0.2157, 0.2196],\n",
            "          [0.1255, 0.0941, 0.1294,  ..., 0.2118, 0.2157, 0.2118]],\n",
            "\n",
            "         [[0.2627, 0.2588, 0.2588,  ..., 0.4745, 0.3059, 0.2706],\n",
            "          [0.2627, 0.2549, 0.2549,  ..., 0.5529, 0.3020, 0.2706],\n",
            "          [0.2667, 0.2588, 0.2627,  ..., 0.4980, 0.2784, 0.2667],\n",
            "          ...,\n",
            "          [0.3608, 0.2431, 0.2118,  ..., 0.2510, 0.2431, 0.2510],\n",
            "          [0.1608, 0.1255, 0.1922,  ..., 0.2431, 0.2471, 0.2510],\n",
            "          [0.1490, 0.1176, 0.1333,  ..., 0.2431, 0.2471, 0.2431]]],\n",
            "\n",
            "\n",
            "        [[[0.8196, 0.8196, 0.8471,  ..., 0.8196, 0.8157, 0.8314],\n",
            "          [0.8549, 0.8431, 0.8353,  ..., 0.5647, 0.5647, 0.5961],\n",
            "          [0.9373, 0.9412, 0.9333,  ..., 0.4706, 0.4667, 0.4941],\n",
            "          ...,\n",
            "          [0.7412, 0.7020, 0.6471,  ..., 0.6078, 0.6118, 0.6667],\n",
            "          [0.8118, 0.7882, 0.8000,  ..., 0.6824, 0.6824, 0.7373],\n",
            "          [0.9412, 0.9294, 0.9373,  ..., 0.8784, 0.8824, 0.9176]],\n",
            "\n",
            "         [[0.9216, 0.8902, 0.8784,  ..., 0.9216, 0.9176, 0.9137],\n",
            "          [0.7020, 0.7176, 0.6275,  ..., 0.7647, 0.7647, 0.7804],\n",
            "          [0.5216, 0.6039, 0.5451,  ..., 0.7137, 0.7137, 0.7255],\n",
            "          ...,\n",
            "          [0.8392, 0.8078, 0.7922,  ..., 0.7686, 0.7686, 0.7961],\n",
            "          [0.8902, 0.8706, 0.8784,  ..., 0.8314, 0.8314, 0.8549],\n",
            "          [0.9765, 0.9686, 0.9725,  ..., 0.9451, 0.9451, 0.9647]],\n",
            "\n",
            "         [[0.9608, 0.9333, 0.9059,  ..., 0.9765, 0.9804, 0.9843],\n",
            "          [0.7216, 0.7490, 0.6588,  ..., 0.9098, 0.9137, 0.9216],\n",
            "          [0.4824, 0.5882, 0.5529,  ..., 0.8902, 0.8902, 0.8941],\n",
            "          ...,\n",
            "          [0.9412, 0.9412, 0.9176,  ..., 0.9255, 0.9255, 0.9216],\n",
            "          [0.9647, 0.9686, 0.9765,  ..., 0.9529, 0.9569, 0.9608],\n",
            "          [0.9961, 0.9961, 1.0000,  ..., 0.9961, 0.9961, 1.0000]]],\n",
            "\n",
            "\n",
            "        [[[0.9529, 0.9765, 1.0000,  ..., 0.4196, 0.4471, 0.4784],\n",
            "          [0.9412, 0.9608, 0.9882,  ..., 0.4627, 0.4196, 0.4549],\n",
            "          [0.9412, 0.9569, 0.9922,  ..., 0.4745, 0.4431, 0.4157],\n",
            "          ...,\n",
            "          [0.8235, 0.7843, 0.8000,  ..., 0.7412, 0.7137, 0.7137],\n",
            "          [0.8196, 0.7961, 0.8157,  ..., 0.7176, 0.6784, 0.6980],\n",
            "          [0.8118, 0.8431, 0.8471,  ..., 0.7451, 0.6941, 0.6863]],\n",
            "\n",
            "         [[0.9255, 0.9608, 1.0000,  ..., 0.1961, 0.2353, 0.2235],\n",
            "          [0.9137, 0.9451, 0.9961,  ..., 0.3059, 0.2392, 0.2196],\n",
            "          [0.9137, 0.9412, 1.0000,  ..., 0.2588, 0.1608, 0.1490],\n",
            "          ...,\n",
            "          [0.8431, 0.8078, 0.8235,  ..., 0.7176, 0.7059, 0.7098],\n",
            "          [0.8471, 0.8157, 0.8314,  ..., 0.7137, 0.6863, 0.7059],\n",
            "          [0.8353, 0.8510, 0.8353,  ..., 0.7451, 0.7020, 0.7059]],\n",
            "\n",
            "         [[0.8941, 0.9333, 1.0000,  ..., 0.0588, 0.0745, 0.0941],\n",
            "          [0.8824, 0.9176, 0.9882,  ..., 0.0863, 0.0431, 0.1216],\n",
            "          [0.8824, 0.9137, 0.9882,  ..., 0.0980, 0.0471, 0.1098],\n",
            "          ...,\n",
            "          [0.4863, 0.4353, 0.4471,  ..., 0.2902, 0.2314, 0.2275],\n",
            "          [0.4431, 0.4392, 0.4667,  ..., 0.2471, 0.1922, 0.2392],\n",
            "          [0.4745, 0.5373, 0.5451,  ..., 0.3529, 0.2706, 0.2392]]]])\n",
            "6\n"
          ]
        }
      ]
    },
    {
      "cell_type": "code",
      "source": [
        "# create your own customDataset loader as below\n",
        "class CustomDataset(torch.utils.data.Dataset):\n",
        "  def __init__(self):\n",
        "    # initialize file paths or a list of fils names.\n",
        "    pass\n",
        "  def __getitem__(self,index):\n",
        "    # 1. Read one data from file (e.g. using numpy.fromfile, PIL.Image.open).\n",
        "    # 2. Preprocess the data (e.g. torchvision.Transform).\n",
        "    # 3. Return a data pair (e.g. image and label).\n",
        "    pass\n",
        "  def __len__(self):\n",
        "    # You should change 0 to the total size of your dataset.\n",
        "    return 0"
      ],
      "metadata": {
        "id": "5-m__CClLyrK"
      },
      "execution_count": 31,
      "outputs": []
    },
    {
      "cell_type": "code",
      "source": [
        "custom_dataset = CustomDataset()\n",
        "train_loader = torch.utils.data.DataLoader(dataset = custom_dataset,\n",
        "                                           batch_size = 64,\n",
        "                                           shuffle = True)"
      ],
      "metadata": {
        "colab": {
          "base_uri": "https://localhost:8080/",
          "height": 408
        },
        "id": "VSARVvufNmjJ",
        "outputId": "7f0a71fe-110a-4512-9014-9f0e162cd3ee"
      },
      "execution_count": 32,
      "outputs": [
        {
          "output_type": "error",
          "ename": "ValueError",
          "evalue": "num_samples should be a positive integer value, but got num_samples=0",
          "traceback": [
            "\u001b[0;31m---------------------------------------------------------------------------\u001b[0m",
            "\u001b[0;31mValueError\u001b[0m                                Traceback (most recent call last)",
            "\u001b[0;32m<ipython-input-32-56f2342e4216>\u001b[0m in \u001b[0;36m<cell line: 2>\u001b[0;34m()\u001b[0m\n\u001b[1;32m      1\u001b[0m \u001b[0mcustom_dataset\u001b[0m \u001b[0;34m=\u001b[0m \u001b[0mCustomDataset\u001b[0m\u001b[0;34m(\u001b[0m\u001b[0;34m)\u001b[0m\u001b[0;34m\u001b[0m\u001b[0;34m\u001b[0m\u001b[0m\n\u001b[0;32m----> 2\u001b[0;31m train_loader = torch.utils.data.DataLoader(dataset = custom_dataset,\n\u001b[0m\u001b[1;32m      3\u001b[0m                                            \u001b[0mbatch_size\u001b[0m \u001b[0;34m=\u001b[0m \u001b[0;36m64\u001b[0m\u001b[0;34m,\u001b[0m\u001b[0;34m\u001b[0m\u001b[0;34m\u001b[0m\u001b[0m\n\u001b[1;32m      4\u001b[0m                                            shuffle = True)\n\u001b[1;32m      5\u001b[0m \u001b[0mresnet\u001b[0m \u001b[0;34m=\u001b[0m \u001b[0mtorchvision\u001b[0m\u001b[0;34m.\u001b[0m\u001b[0mmodels\u001b[0m\u001b[0;34m.\u001b[0m\u001b[0mresnet18\u001b[0m\u001b[0;34m(\u001b[0m\u001b[0mpretrained\u001b[0m \u001b[0;34m=\u001b[0m \u001b[0;32mTrue\u001b[0m\u001b[0;34m)\u001b[0m\u001b[0;34m\u001b[0m\u001b[0;34m\u001b[0m\u001b[0m\n",
            "\u001b[0;32m/usr/local/lib/python3.10/dist-packages/torch/utils/data/dataloader.py\u001b[0m in \u001b[0;36m__init__\u001b[0;34m(self, dataset, batch_size, shuffle, sampler, batch_sampler, num_workers, collate_fn, pin_memory, drop_last, timeout, worker_init_fn, multiprocessing_context, generator, prefetch_factor, persistent_workers, pin_memory_device)\u001b[0m\n\u001b[1;32m    347\u001b[0m             \u001b[0;32melse\u001b[0m\u001b[0;34m:\u001b[0m  \u001b[0;31m# map-style\u001b[0m\u001b[0;34m\u001b[0m\u001b[0;34m\u001b[0m\u001b[0m\n\u001b[1;32m    348\u001b[0m                 \u001b[0;32mif\u001b[0m \u001b[0mshuffle\u001b[0m\u001b[0;34m:\u001b[0m\u001b[0;34m\u001b[0m\u001b[0;34m\u001b[0m\u001b[0m\n\u001b[0;32m--> 349\u001b[0;31m                     \u001b[0msampler\u001b[0m \u001b[0;34m=\u001b[0m \u001b[0mRandomSampler\u001b[0m\u001b[0;34m(\u001b[0m\u001b[0mdataset\u001b[0m\u001b[0;34m,\u001b[0m \u001b[0mgenerator\u001b[0m\u001b[0;34m=\u001b[0m\u001b[0mgenerator\u001b[0m\u001b[0;34m)\u001b[0m  \u001b[0;31m# type: ignore[arg-type]\u001b[0m\u001b[0;34m\u001b[0m\u001b[0;34m\u001b[0m\u001b[0m\n\u001b[0m\u001b[1;32m    350\u001b[0m                 \u001b[0;32melse\u001b[0m\u001b[0;34m:\u001b[0m\u001b[0;34m\u001b[0m\u001b[0;34m\u001b[0m\u001b[0m\n\u001b[1;32m    351\u001b[0m                     \u001b[0msampler\u001b[0m \u001b[0;34m=\u001b[0m \u001b[0mSequentialSampler\u001b[0m\u001b[0;34m(\u001b[0m\u001b[0mdataset\u001b[0m\u001b[0;34m)\u001b[0m  \u001b[0;31m# type: ignore[arg-type]\u001b[0m\u001b[0;34m\u001b[0m\u001b[0;34m\u001b[0m\u001b[0m\n",
            "\u001b[0;32m/usr/local/lib/python3.10/dist-packages/torch/utils/data/sampler.py\u001b[0m in \u001b[0;36m__init__\u001b[0;34m(self, data_source, replacement, num_samples, generator)\u001b[0m\n\u001b[1;32m    138\u001b[0m \u001b[0;34m\u001b[0m\u001b[0m\n\u001b[1;32m    139\u001b[0m         \u001b[0;32mif\u001b[0m \u001b[0;32mnot\u001b[0m \u001b[0misinstance\u001b[0m\u001b[0;34m(\u001b[0m\u001b[0mself\u001b[0m\u001b[0;34m.\u001b[0m\u001b[0mnum_samples\u001b[0m\u001b[0;34m,\u001b[0m \u001b[0mint\u001b[0m\u001b[0;34m)\u001b[0m \u001b[0;32mor\u001b[0m \u001b[0mself\u001b[0m\u001b[0;34m.\u001b[0m\u001b[0mnum_samples\u001b[0m \u001b[0;34m<=\u001b[0m \u001b[0;36m0\u001b[0m\u001b[0;34m:\u001b[0m\u001b[0;34m\u001b[0m\u001b[0;34m\u001b[0m\u001b[0m\n\u001b[0;32m--> 140\u001b[0;31m             \u001b[0;32mraise\u001b[0m \u001b[0mValueError\u001b[0m\u001b[0;34m(\u001b[0m\u001b[0;34mf\"num_samples should be a positive integer value, but got num_samples={self.num_samples}\"\u001b[0m\u001b[0;34m)\u001b[0m\u001b[0;34m\u001b[0m\u001b[0;34m\u001b[0m\u001b[0m\n\u001b[0m\u001b[1;32m    141\u001b[0m \u001b[0;34m\u001b[0m\u001b[0m\n\u001b[1;32m    142\u001b[0m     \u001b[0;34m@\u001b[0m\u001b[0mproperty\u001b[0m\u001b[0;34m\u001b[0m\u001b[0;34m\u001b[0m\u001b[0m\n",
            "\u001b[0;31mValueError\u001b[0m: num_samples should be a positive integer value, but got num_samples=0"
          ]
        }
      ]
    },
    {
      "cell_type": "code",
      "source": [
        "resnet = torchvision.models.resnet18(pretrained = True)\n",
        "for param in resnet.parameters():\n",
        "  param.requires_grad = False\n",
        "\n",
        "resnet.fc = nn.Linear(resnet.fc.in_features,100)\n",
        "images = torch.randn(64,3,224,224)\n",
        "outputs = resnet(images)\n",
        "print(outputs.size())"
      ],
      "metadata": {
        "colab": {
          "base_uri": "https://localhost:8080/"
        },
        "id": "DhLnaXU2PEkw",
        "outputId": "ded2c1e7-4ba8-46f7-844b-d96aed30fb91"
      },
      "execution_count": 33,
      "outputs": [
        {
          "output_type": "stream",
          "name": "stderr",
          "text": [
            "/usr/local/lib/python3.10/dist-packages/torchvision/models/_utils.py:208: UserWarning: The parameter 'pretrained' is deprecated since 0.13 and may be removed in the future, please use 'weights' instead.\n",
            "  warnings.warn(\n",
            "/usr/local/lib/python3.10/dist-packages/torchvision/models/_utils.py:223: UserWarning: Arguments other than a weight enum or `None` for 'weights' are deprecated since 0.13 and may be removed in the future. The current behavior is equivalent to passing `weights=ResNet18_Weights.IMAGENET1K_V1`. You can also use `weights=ResNet18_Weights.DEFAULT` to get the most up-to-date weights.\n",
            "  warnings.warn(msg)\n",
            "Downloading: \"https://download.pytorch.org/models/resnet18-f37072fd.pth\" to /root/.cache/torch/hub/checkpoints/resnet18-f37072fd.pth\n",
            "100%|██████████| 44.7M/44.7M [00:00<00:00, 105MB/s]\n"
          ]
        },
        {
          "output_type": "stream",
          "name": "stdout",
          "text": [
            "torch.Size([64, 100])\n"
          ]
        }
      ]
    },
    {
      "cell_type": "code",
      "source": [
        "torch.save(resnet, 'model.ckpt')\n",
        "model = torch.load('model.ckpt')\n"
      ],
      "metadata": {
        "id": "57qasFUsPO8v"
      },
      "execution_count": 34,
      "outputs": []
    },
    {
      "cell_type": "code",
      "source": [
        "torch.save(resnet.state_dict(), 'params.ckpt')\n",
        "resnet.load_state_dict(torch.load('params.ckpt'))"
      ],
      "metadata": {
        "colab": {
          "base_uri": "https://localhost:8080/"
        },
        "id": "t7_heDSJPYHv",
        "outputId": "b0bd579f-0806-45c6-891b-2c49a4127c48"
      },
      "execution_count": 35,
      "outputs": [
        {
          "output_type": "execute_result",
          "data": {
            "text/plain": [
              "<All keys matched successfully>"
            ]
          },
          "metadata": {},
          "execution_count": 35
        }
      ]
    },
    {
      "cell_type": "code",
      "source": [],
      "metadata": {
        "id": "8eWm4vdtPbOZ"
      },
      "execution_count": null,
      "outputs": []
    }
  ]
}